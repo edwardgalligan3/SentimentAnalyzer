{
  "nbformat": 4,
  "nbformat_minor": 5,
  "metadata": {
    "kernelspec": {
      "name": "python3",
      "display_name": "Python 3"
    },
    "colab": {
      "name": "austin_demo.ipynb",
      "provenance": [],
      "collapsed_sections": [
        "BeSbL7Q6pxm0",
        "bBhr7OZ5Uifz",
        "hR7QGr5zUif2",
        "FalZilB1Uif5"
      ],
      "include_colab_link": true
    },
    "language_info": {
      "name": "python"
    }
  },
  "cells": [
    {
      "cell_type": "markdown",
      "metadata": {
        "id": "view-in-github",
        "colab_type": "text"
      },
      "source": [
        "<a href=\"https://colab.research.google.com/github/edwardgalligan3/SentimentAnalyzer/blob/main/austin_demo.ipynb\" target=\"_parent\"><img src=\"https://colab.research.google.com/assets/colab-badge.svg\" alt=\"Open In Colab\"/></a>"
      ]
    },
    {
      "cell_type": "markdown",
      "metadata": {
        "id": "6Emk1TPQUifm"
      },
      "source": [
        "# Using Project Debater services for analyzing and finding insights in the survey data \n",
        "When you have a large collection of texts representing people’s opinions (such as product reviews, survey answers or  social media), it is difficult to understand the key issues that come up in the data. Going over thousands of comments is prohibitively expensive.  Existing automated approaches are often limited to identifying recurring phrases or concepts and the overall sentiment toward them, but do not provide detailed or actionable insights.\n",
        "\n",
        "In this tutorial you will gain hands-on experience in using Project Debater services for analyzing and deriving insights from open-ended answers.  \n",
        "\n",
        "The data we will use is a community survey conducted in the city of Austin in the years 2016 and 2017 (https://data.world/cityofaustin/mf9f-kvkk). In this survey, the citizens of Austin where asked \"If there was ONE thing you could share with the Mayor regarding the City of Austin (any comment, suggestion, etc.), what would it be?\". \n",
        "\n",
        "We will analyze their open-ended answers in different ways by using four Debater services, the *Argument Quality* service, the *Key Point Analysis (KPA)* service, the *Term Wikifier* service and the *Term Relater* service, and we will see how they can be combined into a powerful text analysis tool."
      ],
      "id": "6Emk1TPQUifm"
    },
    {
      "cell_type": "markdown",
      "metadata": {
        "id": "BeSbL7Q6pxm0"
      },
      "source": [
        "## 0. Environment Setup\n",
        "Please replace 'PUT_YOUR_API_KEY_HERE' with the api-key retreived from the Early-Access-program site.\n",
        "![2021_06_27_0k2_Kleki.png](data:image/png;base64,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)"
      ],
      "id": "BeSbL7Q6pxm0"
    },
    {
      "cell_type": "code",
      "metadata": {
        "id": "tiey_oz9UjNS",
        "outputId": "8582944c-ce43-4405-c299-127ab8a76045",
        "colab": {
          "base_uri": "https://localhost:8080/"
        }
      },
      "source": [
        "print('Set Api-Key:')\n",
        "api_key = 'ffd94d42e491407c02c407e4577c7a7eL05'\n",
        "\n",
        "if api_key == \"PUT_YOUR_API_KEY_HERE\":\n",
        "    raise ValueError(\"Please set the api_key parameter with the value of the API KEY found in the API-KEY \"\n",
        "        \"tab of the Early Access Program Website. It currently uses a placeholder template\")\n",
        "\n",
        "print('Install Early-Access-Program SDK:')\n",
        "!wget -P . https://early-access-program.debater.res.ibm.com/sdk/python_api.tar.gz\n",
        "!tar -xvf python_api.tar.gz\n",
        "!cd python_api ; pip install .\n",
        "!rm -f python_api.tar.gz*\n",
        "\n",
        "print('Fetch additional code and data-set for the tutorial site: https://github.com/IBM/debater-eap-tutorial :')\n",
        "!rm -f dataset_austin_sentences*\n",
        "!rm -f austin_utils*\n",
        "\n",
        "!wget -P . https://raw.githubusercontent.com/IBM/debater-eap-tutorial/main/survey_usecase/dataset_austin_sentences.csv\n",
        "!wget -P . https://raw.githubusercontent.com/IBM/debater-eap-tutorial/main/survey_usecase/austin_utils.py"
      ],
      "id": "tiey_oz9UjNS",
      "execution_count": 5,
      "outputs": [
        {
          "output_type": "stream",
          "text": [
            "Set Api-Key:\n",
            "Install Early-Access-Program SDK:\n",
            "--2021-06-30 17:28:13--  https://early-access-program.debater.res.ibm.com/sdk/python_api.tar.gz\n",
            "Resolving early-access-program.debater.res.ibm.com (early-access-program.debater.res.ibm.com)... 169.55.93.82\n",
            "Connecting to early-access-program.debater.res.ibm.com (early-access-program.debater.res.ibm.com)|169.55.93.82|:443... connected.\n",
            "HTTP request sent, awaiting response... 200 \n",
            "Length: 441774 (431K) [application/x-gzip]\n",
            "Saving to: ‘./python_api.tar.gz’\n",
            "\n",
            "python_api.tar.gz   100%[===================>] 431.42K  --.-KB/s    in 0.02s   \n",
            "\n",
            "2021-06-30 17:28:13 (18.4 MB/s) - ‘./python_api.tar.gz’ saved [441774/441774]\n",
            "\n",
            "python_api/\n",
            "python_api/__init__.py\n",
            "python_api/setup.py\n",
            "python_api/README.md\n",
            "python_api/debater_python_api/\n",
            "python_api/debater_python_api/__init__.py\n",
            "python_api/debater_python_api/examples/\n",
            "python_api/debater_python_api/examples/__init__.py\n",
            "python_api/debater_python_api/examples/evidence_detection_example.py\n",
            "python_api/debater_python_api/examples/term_wikifier_example.py\n",
            "python_api/debater_python_api/examples/usecases/\n",
            "python_api/debater_python_api/examples/usecases/mining_to_narrative.py\n",
            "python_api/debater_python_api/examples/usecases/kp_based_survey.py\n",
            "python_api/debater_python_api/examples/usecases/survey.py\n",
            "python_api/debater_python_api/examples/example_of_sc_args.py\n",
            "python_api/debater_python_api/examples/term_relater_example.py\n",
            "python_api/debater_python_api/examples/argument_quality_response.txt\n",
            "python_api/debater_python_api/examples/clustering_example.py\n",
            "python_api/debater_python_api/examples/pro_con_example.py\n",
            "python_api/debater_python_api/examples/term_wikifier_response.txt\n",
            "python_api/debater_python_api/examples/evidence_detection_response.txt\n",
            "python_api/debater_python_api/examples/embedding_example.py\n",
            "python_api/debater_python_api/examples/speech_construction_example.py\n",
            "python_api/debater_python_api/examples/term_relater_response.txt\n",
            "python_api/debater_python_api/examples/keypoints_example.py\n",
            "python_api/debater_python_api/examples/claim_boundaries_response.txt\n",
            "python_api/debater_python_api/examples/claim_boundaries_example.py\n",
            "python_api/debater_python_api/examples/claim_detection_example.py\n",
            "python_api/debater_python_api/examples/argument_quality_example.py\n",
            "python_api/debater_python_api/examples/keypoints_response.txt\n",
            "python_api/debater_python_api/examples/theme_extraction_example.py\n",
            "python_api/debater_python_api/examples/claim_detection_response.txt\n",
            "python_api/debater_python_api/examples/theme_extraction_response.txt\n",
            "python_api/debater_python_api/examples/pro_con_response.txt\n",
            "python_api/debater_python_api/examples/clustering_response.txt\n",
            "python_api/debater_python_api/examples/index_searcher_example.py\n",
            "python_api/debater_python_api/examples/run_all_services.py\n",
            "python_api/debater_python_api/examples/index_searcher_response.txt\n",
            "python_api/debater_python_api/examples/resources/\n",
            "python_api/debater_python_api/examples/resources/__init__.py\n",
            "python_api/debater_python_api/examples/resources/argument_quality_arguments.txt\n",
            "python_api/debater_python_api/examples/resources/pro_con_arguments.txt\n",
            "python_api/debater_python_api/examples/resources/term_relater_pairs.txt\n",
            "python_api/debater_python_api/examples/resources/filters_output/\n",
            "python_api/debater_python_api/examples/resources/filters_output/__init__.py\n",
            "python_api/debater_python_api/examples/resources/arguments.py\n",
            "python_api/debater_python_api/examples/resources/claim_classifier_pairs.txt\n",
            "python_api/debater_python_api/examples/resources/term_wikifier_texts.txt\n",
            "python_api/debater_python_api/examples/resources/dataset_austin.csv\n",
            "python_api/debater_python_api/examples/resources/evidence_classifier_pairs.txt\n",
            "python_api/debater_python_api/examples/resources/clustering_arguments.txt\n",
            "python_api/debater_python_api/examples/resources/pro_con_scores.py\n",
            "python_api/debater_python_api/integration_tests/\n",
            "python_api/debater_python_api/integration_tests/__init__.py\n",
            "python_api/debater_python_api/integration_tests/api/\n",
            "python_api/debater_python_api/integration_tests/api/__init__.py\n",
            "python_api/debater_python_api/integration_tests/api/clients/\n",
            "python_api/debater_python_api/integration_tests/api/clients/__init__.py\n",
            "python_api/debater_python_api/integration_tests/api/clients/ServicesIT.py\n",
            "python_api/debater_python_api/integration_tests/api/clients/ServicesLoad.py\n",
            "python_api/debater_python_api/integration_tests/api/clients/DebaterApiWithAdjustedUrl.py\n",
            "python_api/debater_python_api/integration_tests/test_data_files/\n",
            "python_api/debater_python_api/integration_tests/test_data_files/dataset_austin_open_ended_comments_3k_with_ids.csv\n",
            "python_api/debater_python_api/utils/\n",
            "python_api/debater_python_api/utils/__init__.py\n",
            "python_api/debater_python_api/utils/general_utils.py\n",
            "python_api/debater_python_api/utils/kp_analysis_utils.py\n",
            "python_api/debater_python_api/utils/clusters_refiner.py\n",
            "python_api/debater_python_api/utils/kp_analysis_conf.py\n",
            "python_api/debater_python_api/api/\n",
            "python_api/debater_python_api/api/__init__.py\n",
            "python_api/debater_python_api/api/sentence_level_index/\n",
            "python_api/debater_python_api/api/sentence_level_index/__init__.py\n",
            "python_api/debater_python_api/api/sentence_level_index/client/\n",
            "python_api/debater_python_api/api/sentence_level_index/client/__init__.py\n",
            "python_api/debater_python_api/api/sentence_level_index/client/article_retrieval_request.py\n",
            "python_api/debater_python_api/api/sentence_level_index/client/sentence_query_base.py\n",
            "python_api/debater_python_api/api/sentence_level_index/client/elastic_search_sentence_res.py\n",
            "python_api/debater_python_api/api/sentence_level_index/client/elastic_client.py\n",
            "python_api/debater_python_api/api/sentence_level_index/client/elastic_search_article_res.py\n",
            "python_api/debater_python_api/api/sentence_level_index/client/sentence_query_request.py\n",
            "python_api/debater_python_api/api/clients/\n",
            "python_api/debater_python_api/api/clients/__init__.py\n",
            "python_api/debater_python_api/api/clients/pro_con_client.py\n",
            "python_api/debater_python_api/api/clients/term_relater_client.py\n",
            "python_api/debater_python_api/api/clients/abstract_client.py\n",
            "python_api/debater_python_api/api/clients/keypoints_client.py\n",
            "python_api/debater_python_api/api/clients/claim_boundaries_client.py\n",
            "python_api/debater_python_api/api/clients/term_wikifier_client.py\n",
            "python_api/debater_python_api/api/clients/clustering_client.py\n",
            "python_api/debater_python_api/api/clients/embedding_client.py\n",
            "python_api/debater_python_api/api/clients/theme_extraction_client.py\n",
            "python_api/debater_python_api/api/clients/claim_and_evidence_detection_client.py\n",
            "python_api/debater_python_api/api/clients/index_searcher_client.py\n",
            "python_api/debater_python_api/api/clients/response_data/\n",
            "python_api/debater_python_api/api/clients/response_data/__init__.py\n",
            "python_api/debater_python_api/api/clients/response_data/speech_response.py\n",
            "python_api/debater_python_api/api/clients/argument_quality_client.py\n",
            "python_api/debater_python_api/api/clients/narrative_generation_client.py\n",
            "python_api/debater_python_api/api/clients/keypoints_pairs_infer_client.py\n",
            "python_api/debater_python_api/api/debater_api.py\n",
            "python_api/requirements.txt\n",
            "Processing /content/python_api\n",
            "Collecting requests==2.21.0\n",
            "\u001b[?25l  Downloading https://files.pythonhosted.org/packages/7d/e3/20f3d364d6c8e5d2353c72a67778eb189176f08e873c9900e10c0287b84b/requests-2.21.0-py2.py3-none-any.whl (57kB)\n",
            "\u001b[K     |████████████████████████████████| 61kB 7.2MB/s \n",
            "\u001b[?25hCollecting prettytable==0.7.2\n",
            "  Downloading https://files.pythonhosted.org/packages/ef/30/4b0746848746ed5941f052479e7c23d2b56d174b82f4fd34a25e389831f5/prettytable-0.7.2.tar.bz2\n",
            "Requirement already satisfied: sklearn==0.0 in /usr/local/lib/python3.7/dist-packages (from debater-python-api===3.5.8.RELEASE) (0.0)\n",
            "Collecting matplotlib==3.0.3\n",
            "\u001b[?25l  Downloading https://files.pythonhosted.org/packages/83/2a/e47bbd9396af32376863a426baed62d9bf3091f81defd1fe81c5f33b11a3/matplotlib-3.0.3-cp37-cp37m-manylinux1_x86_64.whl (13.0MB)\n",
            "\u001b[K     |████████████████████████████████| 13.0MB 207kB/s \n",
            "\u001b[?25hRequirement already satisfied: numpy in /usr/local/lib/python3.7/dist-packages (from debater-python-api===3.5.8.RELEASE) (1.19.5)\n",
            "Requirement already satisfied: pandas in /usr/local/lib/python3.7/dist-packages (from debater-python-api===3.5.8.RELEASE) (1.1.5)\n",
            "Collecting spacy==2.2.1\n",
            "\u001b[?25l  Downloading https://files.pythonhosted.org/packages/e4/a2/004368da9345ed66d0cace35d965209482fe4d06f05367c6b037c8e98254/spacy-2.2.1-cp37-cp37m-manylinux1_x86_64.whl (10.2MB)\n",
            "\u001b[K     |████████████████████████████████| 10.2MB 36.3MB/s \n",
            "\u001b[?25hCollecting PyHamcrest==2.0.2\n",
            "\u001b[?25l  Downloading https://files.pythonhosted.org/packages/40/16/e54cc65891f01cb62893540f44ffd3e8dab0a22443e1b438f1a9f5574bee/PyHamcrest-2.0.2-py3-none-any.whl (52kB)\n",
            "\u001b[K     |████████████████████████████████| 61kB 6.6MB/s \n",
            "\u001b[?25hRequirement already satisfied: certifi>=2017.4.17 in /usr/local/lib/python3.7/dist-packages (from requests==2.21.0->debater-python-api===3.5.8.RELEASE) (2021.5.30)\n",
            "Requirement already satisfied: chardet<3.1.0,>=3.0.2 in /usr/local/lib/python3.7/dist-packages (from requests==2.21.0->debater-python-api===3.5.8.RELEASE) (3.0.4)\n",
            "Collecting idna<2.9,>=2.5\n",
            "\u001b[?25l  Downloading https://files.pythonhosted.org/packages/14/2c/cd551d81dbe15200be1cf41cd03869a46fe7226e7450af7a6545bfc474c9/idna-2.8-py2.py3-none-any.whl (58kB)\n",
            "\u001b[K     |████████████████████████████████| 61kB 7.0MB/s \n",
            "\u001b[?25hRequirement already satisfied: urllib3<1.25,>=1.21.1 in /usr/local/lib/python3.7/dist-packages (from requests==2.21.0->debater-python-api===3.5.8.RELEASE) (1.24.3)\n",
            "Requirement already satisfied: scikit-learn in /usr/local/lib/python3.7/dist-packages (from sklearn==0.0->debater-python-api===3.5.8.RELEASE) (0.22.2.post1)\n",
            "Requirement already satisfied: cycler>=0.10 in /usr/local/lib/python3.7/dist-packages (from matplotlib==3.0.3->debater-python-api===3.5.8.RELEASE) (0.10.0)\n",
            "Requirement already satisfied: pyparsing!=2.0.4,!=2.1.2,!=2.1.6,>=2.0.1 in /usr/local/lib/python3.7/dist-packages (from matplotlib==3.0.3->debater-python-api===3.5.8.RELEASE) (2.4.7)\n",
            "Requirement already satisfied: kiwisolver>=1.0.1 in /usr/local/lib/python3.7/dist-packages (from matplotlib==3.0.3->debater-python-api===3.5.8.RELEASE) (1.3.1)\n",
            "Requirement already satisfied: python-dateutil>=2.1 in /usr/local/lib/python3.7/dist-packages (from matplotlib==3.0.3->debater-python-api===3.5.8.RELEASE) (2.8.1)\n",
            "Requirement already satisfied: pytz>=2017.2 in /usr/local/lib/python3.7/dist-packages (from pandas->debater-python-api===3.5.8.RELEASE) (2018.9)\n",
            "Collecting thinc<7.2.0,>=7.1.1\n",
            "\u001b[?25l  Downloading https://files.pythonhosted.org/packages/f3/57/e72a6ff850a00eab0c6fd83a5d24a24dfb712d0a1c29a428a679a2aadad5/thinc-7.1.1-cp37-cp37m-manylinux1_x86_64.whl (2.1MB)\n",
            "\u001b[K     |████████████████████████████████| 2.1MB 29.1MB/s \n",
            "\u001b[?25hRequirement already satisfied: blis<0.5.0,>=0.4.0 in /usr/local/lib/python3.7/dist-packages (from spacy==2.2.1->debater-python-api===3.5.8.RELEASE) (0.4.1)\n",
            "Requirement already satisfied: preshed<3.1.0,>=3.0.2 in /usr/local/lib/python3.7/dist-packages (from spacy==2.2.1->debater-python-api===3.5.8.RELEASE) (3.0.5)\n",
            "Requirement already satisfied: srsly<1.1.0,>=0.1.0 in /usr/local/lib/python3.7/dist-packages (from spacy==2.2.1->debater-python-api===3.5.8.RELEASE) (1.0.5)\n",
            "Collecting plac<1.0.0,>=0.9.6\n",
            "  Downloading https://files.pythonhosted.org/packages/9e/9b/62c60d2f5bc135d2aa1d8c8a86aaf84edb719a59c7f11a4316259e61a298/plac-0.9.6-py2.py3-none-any.whl\n",
            "Requirement already satisfied: cymem<2.1.0,>=2.0.2 in /usr/local/lib/python3.7/dist-packages (from spacy==2.2.1->debater-python-api===3.5.8.RELEASE) (2.0.5)\n",
            "Requirement already satisfied: murmurhash<1.1.0,>=0.28.0 in /usr/local/lib/python3.7/dist-packages (from spacy==2.2.1->debater-python-api===3.5.8.RELEASE) (1.0.5)\n",
            "Requirement already satisfied: wasabi<1.1.0,>=0.2.0 in /usr/local/lib/python3.7/dist-packages (from spacy==2.2.1->debater-python-api===3.5.8.RELEASE) (0.8.2)\n",
            "Requirement already satisfied: joblib>=0.11 in /usr/local/lib/python3.7/dist-packages (from scikit-learn->sklearn==0.0->debater-python-api===3.5.8.RELEASE) (1.0.1)\n",
            "Requirement already satisfied: scipy>=0.17.0 in /usr/local/lib/python3.7/dist-packages (from scikit-learn->sklearn==0.0->debater-python-api===3.5.8.RELEASE) (1.4.1)\n",
            "Requirement already satisfied: six in /usr/local/lib/python3.7/dist-packages (from cycler>=0.10->matplotlib==3.0.3->debater-python-api===3.5.8.RELEASE) (1.15.0)\n",
            "Requirement already satisfied: tqdm<5.0.0,>=4.10.0 in /usr/local/lib/python3.7/dist-packages (from thinc<7.2.0,>=7.1.1->spacy==2.2.1->debater-python-api===3.5.8.RELEASE) (4.41.1)\n",
            "Building wheels for collected packages: debater-python-api, prettytable\n",
            "  Building wheel for debater-python-api (setup.py) ... \u001b[?25l\u001b[?25hdone\n",
            "  Created wheel for debater-python-api: filename=debater_python_api-3.5.8.RELEASE-cp37-none-any.whl size=87349 sha256=2a5e02730cef9485fd5b2d5e3bc47ae5ad27d51f943a5edbd2885c969a898c18\n",
            "  Stored in directory: /tmp/pip-ephem-wheel-cache-llhy758s/wheels/8c/72/52/403c7f3d1369f13da7931bc89758edd28ff25f2fb1d19d3a8b\n",
            "  Building wheel for prettytable (setup.py) ... \u001b[?25l\u001b[?25hdone\n",
            "  Created wheel for prettytable: filename=prettytable-0.7.2-cp37-none-any.whl size=13716 sha256=50f60a070a05f068f259ea34cfa83a0fc5462cfd82a63853b1027a63d6262760\n",
            "  Stored in directory: /root/.cache/pip/wheels/80/34/1c/3967380d9676d162cb59513bd9dc862d0584e045a162095606\n",
            "Successfully built debater-python-api prettytable\n",
            "\u001b[31mERROR: plotnine 0.6.0 has requirement matplotlib>=3.1.1, but you'll have matplotlib 3.0.3 which is incompatible.\u001b[0m\n",
            "\u001b[31mERROR: mizani 0.6.0 has requirement matplotlib>=3.1.1, but you'll have matplotlib 3.0.3 which is incompatible.\u001b[0m\n",
            "\u001b[31mERROR: google-colab 1.0.0 has requirement requests~=2.23.0, but you'll have requests 2.21.0 which is incompatible.\u001b[0m\n",
            "\u001b[31mERROR: en-core-web-sm 2.2.5 has requirement spacy>=2.2.2, but you'll have spacy 2.2.1 which is incompatible.\u001b[0m\n",
            "\u001b[31mERROR: datascience 0.10.6 has requirement folium==0.2.1, but you'll have folium 0.8.3 which is incompatible.\u001b[0m\n",
            "\u001b[31mERROR: albumentations 0.1.12 has requirement imgaug<0.2.7,>=0.2.5, but you'll have imgaug 0.2.9 which is incompatible.\u001b[0m\n",
            "Installing collected packages: idna, requests, prettytable, matplotlib, plac, thinc, spacy, PyHamcrest, debater-python-api\n",
            "  Found existing installation: idna 2.10\n",
            "    Uninstalling idna-2.10:\n",
            "      Successfully uninstalled idna-2.10\n",
            "  Found existing installation: requests 2.23.0\n",
            "    Uninstalling requests-2.23.0:\n",
            "      Successfully uninstalled requests-2.23.0\n",
            "  Found existing installation: prettytable 2.1.0\n",
            "    Uninstalling prettytable-2.1.0:\n",
            "      Successfully uninstalled prettytable-2.1.0\n",
            "  Found existing installation: matplotlib 3.2.2\n",
            "    Uninstalling matplotlib-3.2.2:\n",
            "      Successfully uninstalled matplotlib-3.2.2\n",
            "  Found existing installation: plac 1.1.3\n",
            "    Uninstalling plac-1.1.3:\n",
            "      Successfully uninstalled plac-1.1.3\n",
            "  Found existing installation: thinc 7.4.0\n",
            "    Uninstalling thinc-7.4.0:\n",
            "      Successfully uninstalled thinc-7.4.0\n",
            "  Found existing installation: spacy 2.2.4\n",
            "    Uninstalling spacy-2.2.4:\n",
            "      Successfully uninstalled spacy-2.2.4\n",
            "Successfully installed PyHamcrest-2.0.2 debater-python-api-3.5.8.RELEASE idna-2.8 matplotlib-3.0.3 plac-0.9.6 prettytable-0.7.2 requests-2.21.0 spacy-2.2.1 thinc-7.1.1\n",
            "Fetch additional code and data-set for the tutorial site: https://github.com/IBM/debater-eap-tutorial :\n",
            "--2021-06-30 17:28:42--  https://raw.githubusercontent.com/IBM/debater-eap-tutorial/main/survey_usecase/dataset_austin_sentences.csv\n",
            "Resolving raw.githubusercontent.com (raw.githubusercontent.com)... 185.199.111.133, 185.199.108.133, 185.199.109.133, ...\n",
            "Connecting to raw.githubusercontent.com (raw.githubusercontent.com)|185.199.111.133|:443... connected.\n",
            "HTTP request sent, awaiting response... 200 OK\n",
            "Length: 517932 (506K) [text/plain]\n",
            "Saving to: ‘./dataset_austin_sentences.csv’\n",
            "\n",
            "dataset_austin_sent 100%[===================>] 505.79K  --.-KB/s    in 0.008s  \n",
            "\n",
            "2021-06-30 17:28:42 (63.5 MB/s) - ‘./dataset_austin_sentences.csv’ saved [517932/517932]\n",
            "\n",
            "--2021-06-30 17:28:42--  https://raw.githubusercontent.com/IBM/debater-eap-tutorial/main/survey_usecase/austin_utils.py\n",
            "Resolving raw.githubusercontent.com (raw.githubusercontent.com)... 185.199.108.133, 185.199.109.133, 185.199.110.133, ...\n",
            "Connecting to raw.githubusercontent.com (raw.githubusercontent.com)|185.199.108.133|:443... connected.\n",
            "HTTP request sent, awaiting response... 200 OK\n",
            "Length: 7746 (7.6K) [text/plain]\n",
            "Saving to: ‘./austin_utils.py’\n",
            "\n",
            "austin_utils.py     100%[===================>]   7.56K  --.-KB/s    in 0s      \n",
            "\n",
            "2021-06-30 17:28:42 (72.5 MB/s) - ‘./austin_utils.py’ saved [7746/7746]\n",
            "\n"
          ],
          "name": "stdout"
        }
      ]
    },
    {
      "cell_type": "markdown",
      "metadata": {
        "id": "jynQa1dyUifo"
      },
      "source": [
        "## 1. Run *Key Point Analysis* on 1000 randomly selected sentences from 2016 survey"
      ],
      "id": "jynQa1dyUifo"
    },
    {
      "cell_type": "markdown",
      "metadata": {
        "id": "rfW2ufLsUifp"
      },
      "source": [
        "### 1.1 Read random sample of 1000 sentences from 2016 comments\n",
        "Let's take a look at the first 5 lines in the *dataset_austin_sentences.csv* file, which holds the Austin survey dataset."
      ],
      "id": "rfW2ufLsUifp"
    },
    {
      "cell_type": "code",
      "metadata": {
        "id": "-1CmK5pZUifq",
        "outputId": "29472085-8862-4548-a745-c2fda1b32d76",
        "colab": {
          "base_uri": "https://localhost:8080/"
        }
      },
      "source": [
        "file = open('dataset_austin_sentences.csv', 'r')\n",
        "lines = file.readlines()\n",
        "print('\\n'.join(lines[:5]))"
      ],
      "id": "-1CmK5pZUifq",
      "execution_count": 6,
      "outputs": [
        {
          "output_type": "stream",
          "text": [
            "id,text,district,year\n",
            "\n",
            "1,\"Dissatisfied traffic and with traffic, timing of street lights.\",7,2016\n",
            "\n",
            "2,EXTREMELY dissatisfied with cit govt.,7,2016\n",
            "\n",
            "3,\"interfering in local businesses (Uber/Lyft, income property owners).\",7,2016\n",
            "\n",
            "4,\"Also, extremely dissatisfied with all the free handouts to people who are perfectly capable of earning their own money.\",7,2016\n",
            "\n"
          ],
          "name": "stdout"
        }
      ]
    },
    {
      "cell_type": "markdown",
      "metadata": {
        "id": "Rjf02oVfUifr"
      },
      "source": [
        "The file has all the survey answers after they were split into sentences. Each row in the file corresponds to a single sentence. Each row has the following attributes: \\['id', 'text', 'district','year'\\]. We will first read the attached csv file into the 'sentences' variable. "
      ],
      "id": "Rjf02oVfUifr"
    },
    {
      "cell_type": "code",
      "metadata": {
        "id": "gRtqBxZgUifr"
      },
      "source": [
        "import csv\n",
        "import random\n",
        "\n",
        "\n",
        "with open('./dataset_austin_sentences.csv') as csv_file:\n",
        "    reader = csv.DictReader(csv_file)\n",
        "    sentences = list(reader)"
      ],
      "id": "gRtqBxZgUifr",
      "execution_count": 8,
      "outputs": []
    },
    {
      "cell_type": "markdown",
      "metadata": {
        "id": "PZZWSkcgUifs"
      },
      "source": [
        "Let's have a look at the content *sentences* variable. "
      ],
      "id": "PZZWSkcgUifs"
    },
    {
      "cell_type": "code",
      "metadata": {
        "id": "E_ll231xUifs",
        "outputId": "f90fb4a1-021c-4698-925f-e3894aa97e28",
        "colab": {
          "base_uri": "https://localhost:8080/"
        }
      },
      "source": [
        "print('There are %d sentences in the dataset' % len(sentences))\n",
        "print('Each sentence is a dictionary with the following keys: %s' % str(sentences[0].keys()))"
      ],
      "id": "E_ll231xUifs",
      "execution_count": 9,
      "outputs": [
        {
          "output_type": "stream",
          "text": [
            "There are 6274 sentences in the dataset\n",
            "Each sentence is a dictionary with the following keys: odict_keys(['id', 'text', 'district', 'year'])\n"
          ],
          "name": "stdout"
        }
      ]
    },
    {
      "cell_type": "markdown",
      "metadata": {
        "id": "rZFgdK8VUift"
      },
      "source": [
        "Let's select only the sentences from the 2016 survey and randomly sample 1000 out of them. The *Key Point Analysis* service is able to run over hundreds of thousands of sentences, however since the computation is heavy in resources (particularly GPUs) the trial version is limited to 1000 sentences. Using a random.seed(0) is important since we already prepared a hot-cache over these sentences for a quicker *Key Point Analysis* run."
      ],
      "id": "rZFgdK8VUift"
    },
    {
      "cell_type": "code",
      "metadata": {
        "id": "ix1HNLkvUifu",
        "outputId": "28d9c9e0-84f4-4d6c-ec5e-f8daaf3b1d2e",
        "colab": {
          "base_uri": "https://localhost:8080/"
        }
      },
      "source": [
        "sentences_2016 = [sentence for sentence in sentences if sentence['year'] == '2016']\n",
        "print('There are %d sentences in the 2016 survey' % len(sentences_2016))\n",
        "random.seed(0)\n",
        "random_sample_sentences_2016 = random.sample(sentences_2016, 1000)"
      ],
      "id": "ix1HNLkvUifu",
      "execution_count": 10,
      "outputs": [
        {
          "output_type": "stream",
          "text": [
            "There are 3005 sentences in the 2016 survey\n"
          ],
          "name": "stdout"
        }
      ]
    },
    {
      "cell_type": "markdown",
      "metadata": {
        "id": "LDvIGBcXUifv"
      },
      "source": [
        "### 1.2 Run *Key Point Analysis* on the random sample"
      ],
      "id": "LDvIGBcXUifv"
    },
    {
      "cell_type": "markdown",
      "metadata": {
        "id": "TwqAoqbeUifv"
      },
      "source": [
        "Key point analysis is a novel and promising approach for summarization, with an important quantitative angle. This service summarizes a collection of comments on a given topic as a small set of key points. The salience of each key point is given by the number of its matching sentences in the given comments.\n",
        "\n",
        "Before running the *Key Point Analysis* service we first need to initialize our client.  The DebaterApi object supplies the clients for the various Debater services.   The clients print information using the logger and a suitable verbosity level is should be set. The DebaterApi object is configured with an API key and used to obtain the keypoint client.\n",
        "\n",
        "The *Key Point Analysis* service stores the data (and results cache) in a domain. A user can create several domains, one for each dataset. Domains are only accessible to the user who created them.  In this tutorial, we will run all *Key Point Analysis* jobs in the same domain named 'austin_demo'.\n",
        "\n",
        "Full documentation of the *Key Point Analysis* service can be found [here](https://early-access-program.debater.res.ibm.com/docs/services/keypoints/keypoints_pydoc.html).\n"
      ],
      "id": "TwqAoqbeUifv"
    },
    {
      "cell_type": "code",
      "metadata": {
        "id": "kqgTAhrjUifw"
      },
      "source": [
        "from debater_python_api.api.debater_api import DebaterApi\n",
        "from austin_utils import init_logger\n",
        "import os\n",
        "\n",
        "init_logger()\n",
        "debater_api = DebaterApi(apikey=api_key)\n",
        "keypoints_client = debater_api.get_keypoints_client()\n",
        "domain = 'austin_demo'"
      ],
      "id": "kqgTAhrjUifw",
      "execution_count": 11,
      "outputs": []
    },
    {
      "cell_type": "markdown",
      "metadata": {
        "id": "f1981S0QUifx"
      },
      "source": [
        "Exercise 1:\n",
        "\n",
        "Let's define a method named *run_kpa*. The method receives a list of sentences (each sentence is a dictionary with the following keys: 'id','text') and runs *Key Point Analysis* on these sentences. The method also receives the *run_params* parameter, which enable us to customize and affect the *Key Point Analysis* operation.\n",
        "\n",
        "In order to run *Key Point Analysis*, we need to:\n",
        "\n",
        "1. Upload the comments into a domain using the **keypoints_client.upload_comments(domain=domain, comments_ids=sentences_ids, comments_texts=sentences_texts, dont_split=True)** method. This method receives the domain, a list of comment_ids and a list of comment_texts. By default, when uploading comments into a domain, the *Key Point Analysis* service splits the comments into sentences by default and runs a minor cleansing on the sentences. Since we already splitted the comments into sentences ourselves and we want to *Key Point Analysis* service to use them as is, we will set the *dont_split* parameter to True.\n",
        "\n",
        "2. Wait till all comments in the domain are processed using the **keypoints_client.wait_till_all_comments_are_processed(domain=domain)** method.\n",
        "\n",
        "3. Start a *Key Point Analysis* job using the **future = keypoints_client.start_kp_analysis_job(domain=domain, comments_ids=sentences_ids, run_params=run_params)** method. This method receives the domain, a list of comment_ids and a *run_params*. The run_params is a dictionary with various parameters for customizing the job. The job runs in an async manner therefore the method returns a future object.\n",
        "\n",
        "4. Use the returned future and wait till results are available using the **kpa_result = future.get_result(high_verbosity=True, polling_timout_secs=5)** method. The method waits for the job to finish and eventually returns the result. The result is a dictionary containing the key points (sorted descendingly according to number of matched sentences) and for each key point has a list of matched sentences (sorted descendingly according to their match score). An additional 'none' key point is added which holds all the sentences that don't match any key point.\n",
        "\n",
        "Our run_kpa method will return this result dictionary. It will also return the unique identifirt for this analysis called *job_id* retreived from the future. We will need this job_id in a following exercise."
      ],
      "id": "f1981S0QUifx"
    },
    {
      "cell_type": "code",
      "metadata": {
        "id": "rUdlhCGGUifx"
      },
      "source": [
        "def run_kpa(sentences, run_params):\n",
        "    sentences_texts = [sentence['text'] for sentence in sentences]\n",
        "    sentences_ids = [sentence['id'] for sentence in sentences]\n",
        "\n",
        "    print('Please implement')\n",
        "    \n",
        "    return kpa_result, future.get_job_id()\n",
        "\n",
        "\n",
        "\n",
        "\n",
        "    "
      ],
      "id": "rUdlhCGGUifx",
      "execution_count": null,
      "outputs": []
    },
    {
      "cell_type": "code",
      "metadata": {
        "id": "imqZs_xeCRX_"
      },
      "source": [
        "def run_kpa(sentences, run_params):\n",
        "    sentences_texts = [sentence['text'] for sentence in sentences]\n",
        "    sentences_ids = [sentence['id'] for sentence in sentences]\n",
        "\n",
        "    keypoints_client.upload_comments(domain=domain, \n",
        "                                     comments_ids=sentences_ids, \n",
        "                                     comments_texts=sentences_texts, \n",
        "                                     dont_split=True)\n",
        "\n",
        "    keypoints_client.wait_till_all_comments_are_processed(domain=domain)\n",
        "\n",
        "    future = keypoints_client.start_kp_analysis_job(domain=domain, \n",
        "                                                    comments_ids=sentences_ids, \n",
        "                                                    run_params=run_params)\n",
        "\n",
        "    kpa_result = future.get_result(high_verbosity=True, \n",
        "                                   polling_timout_secs=5)\n",
        "    \n",
        "    return kpa_result, future.get_job_id()"
      ],
      "id": "imqZs_xeCRX_",
      "execution_count": 12,
      "outputs": []
    },
    {
      "cell_type": "markdown",
      "metadata": {
        "id": "tsxCQqe9Uify"
      },
      "source": [
        "We will now use the method you implemented and run over the random sample and print the result. In order to limit the number of key points in the result to 20, we will use *run_params={'n_top_kps': 20}*."
      ],
      "id": "tsxCQqe9Uify"
    },
    {
      "cell_type": "code",
      "metadata": {
        "id": "nycZF4j6Uify",
        "outputId": "885bbb3a-9dbe-4330-be29-3041fd439ef4",
        "colab": {
          "base_uri": "https://localhost:8080/"
        }
      },
      "source": [
        "from austin_utils import print_results\n",
        "\n",
        "kpa_result_random_1000_2016, _ = run_kpa(random_sample_sentences_2016, {'n_top_kps': 20})\n",
        "print_results(kpa_result_random_1000_2016, n_sentences_per_kp=2, title='Random sample 2016')"
      ],
      "id": "nycZF4j6Uify",
      "execution_count": 13,
      "outputs": [
        {
          "output_type": "stream",
          "text": [
            "2021-06-30 17:49:02,308 [INFO] keypoints_client.py 284: uploading 1000 comments in batches\n",
            "2021-06-30 17:49:02,312 [INFO] keypoints_client.py 214: client calls service (post): https://keypoint-matching-backend.debater.res.ibm.com/comments\n",
            "2021-06-30 17:49:02,765 [INFO] keypoints_client.py 301: uploaded 1000 comments, out of 1000\n",
            "2021-06-30 17:49:02,767 [INFO] keypoints_client.py 214: client calls service (get): https://keypoint-matching-backend.debater.res.ibm.com/comments\n",
            "2021-06-30 17:49:08,723 [INFO] keypoints_client.py 313: domain: austin_demo, comments status: {'processed_comments': 3122, 'pending_comments': 0, 'processed_sentences': 3122}\n",
            "2021-06-30 17:49:08,726 [INFO] keypoints_client.py 214: client calls service (post): https://keypoint-matching-backend.debater.res.ibm.com/kp_extraction\n",
            "2021-06-30 17:49:16,479 [INFO] keypoints_client.py 375: started a kp analysis job - domain: austin_demo, job_id: 60dcae9c93247fbd991aebb0\n",
            "2021-06-30 17:49:16,480 [INFO] keypoints_client.py 214: client calls service (get): https://keypoint-matching-backend.debater.res.ibm.com/kp_extraction\n",
            "2021-06-30 17:49:20,755 [INFO] keypoints_client.py 548: job_id 60dcae9c93247fbd991aebb0 is pending\n",
            "2021-06-30 17:49:25,758 [INFO] keypoints_client.py 214: client calls service (get): https://keypoint-matching-backend.debater.res.ibm.com/kp_extraction\n",
            "2021-06-30 17:49:26,826 [INFO] keypoints_client.py 552: job_id 60dcae9c93247fbd991aebb0 is running, progress: not updated yet\n",
            "2021-06-30 17:49:31,828 [INFO] keypoints_client.py 214: client calls service (get): https://keypoint-matching-backend.debater.res.ibm.com/kp_extraction\n",
            "2021-06-30 17:49:32,722 [INFO] keypoints_client.py 552: job_id 60dcae9c93247fbd991aebb0 is running, progress: not updated yet\n",
            "2021-06-30 17:49:37,724 [INFO] keypoints_client.py 214: client calls service (get): https://keypoint-matching-backend.debater.res.ibm.com/kp_extraction\n",
            "2021-06-30 17:49:39,458 [INFO] keypoints_client.py 552: job_id 60dcae9c93247fbd991aebb0 is running, progress: not updated yet\n",
            "2021-06-30 17:49:44,459 [INFO] keypoints_client.py 214: client calls service (get): https://keypoint-matching-backend.debater.res.ibm.com/kp_extraction\n",
            "2021-06-30 17:49:45,101 [INFO] keypoints_client.py 552: job_id 60dcae9c93247fbd991aebb0 is running, progress: not updated yet\n",
            "2021-06-30 17:49:50,107 [INFO] keypoints_client.py 214: client calls service (get): https://keypoint-matching-backend.debater.res.ibm.com/kp_extraction\n",
            "2021-06-30 17:49:51,102 [INFO] keypoints_client.py 552: job_id 60dcae9c93247fbd991aebb0 is running, progress: not updated yet\n",
            "2021-06-30 17:49:56,111 [INFO] keypoints_client.py 214: client calls service (get): https://keypoint-matching-backend.debater.res.ibm.com/kp_extraction\n",
            "2021-06-30 17:49:57,179 [INFO] keypoints_client.py 552: job_id 60dcae9c93247fbd991aebb0 is running, progress: not updated yet\n",
            "2021-06-30 17:50:02,186 [INFO] keypoints_client.py 214: client calls service (get): https://keypoint-matching-backend.debater.res.ibm.com/kp_extraction\n",
            "2021-06-30 17:50:02,985 [INFO] keypoints_client.py 552: job_id 60dcae9c93247fbd991aebb0 is running, progress: not updated yet\n",
            "2021-06-30 17:50:07,988 [INFO] keypoints_client.py 214: client calls service (get): https://keypoint-matching-backend.debater.res.ibm.com/kp_extraction\n",
            "2021-06-30 17:50:09,085 [INFO] keypoints_client.py 552: job_id 60dcae9c93247fbd991aebb0 is running, progress: not updated yet\n",
            "2021-06-30 17:50:14,087 [INFO] keypoints_client.py 214: client calls service (get): https://keypoint-matching-backend.debater.res.ibm.com/kp_extraction\n",
            "2021-06-30 17:50:15,342 [INFO] keypoints_client.py 552: job_id 60dcae9c93247fbd991aebb0 is running, progress: not updated yet\n",
            "2021-06-30 17:50:20,345 [INFO] keypoints_client.py 214: client calls service (get): https://keypoint-matching-backend.debater.res.ibm.com/kp_extraction\n",
            "2021-06-30 17:50:21,265 [INFO] keypoints_client.py 552: job_id 60dcae9c93247fbd991aebb0 is running, progress: not updated yet\n",
            "2021-06-30 17:50:26,268 [INFO] keypoints_client.py 214: client calls service (get): https://keypoint-matching-backend.debater.res.ibm.com/kp_extraction\n",
            "2021-06-30 17:50:27,501 [INFO] keypoints_client.py 552: job_id 60dcae9c93247fbd991aebb0 is running, progress: not updated yet\n",
            "2021-06-30 17:50:32,504 [INFO] keypoints_client.py 214: client calls service (get): https://keypoint-matching-backend.debater.res.ibm.com/kp_extraction\n",
            "2021-06-30 17:50:33,308 [INFO] keypoints_client.py 552: job_id 60dcae9c93247fbd991aebb0 is running, progress: not updated yet\n",
            "2021-06-30 17:50:38,311 [INFO] keypoints_client.py 214: client calls service (get): https://keypoint-matching-backend.debater.res.ibm.com/kp_extraction\n",
            "2021-06-30 17:50:39,288 [INFO] keypoints_client.py 552: job_id 60dcae9c93247fbd991aebb0 is running, progress: not updated yet\n",
            "2021-06-30 17:50:44,291 [INFO] keypoints_client.py 214: client calls service (get): https://keypoint-matching-backend.debater.res.ibm.com/kp_extraction\n",
            "2021-06-30 17:50:45,518 [INFO] keypoints_client.py 552: job_id 60dcae9c93247fbd991aebb0 is running, progress: not updated yet\n",
            "2021-06-30 17:50:50,521 [INFO] keypoints_client.py 214: client calls service (get): https://keypoint-matching-backend.debater.res.ibm.com/kp_extraction\n",
            "2021-06-30 17:50:52,277 [INFO] keypoints_client.py 552: job_id 60dcae9c93247fbd991aebb0 is running, progress: not updated yet\n",
            "2021-06-30 17:50:57,280 [INFO] keypoints_client.py 214: client calls service (get): https://keypoint-matching-backend.debater.res.ibm.com/kp_extraction\n",
            "2021-06-30 17:50:58,151 [INFO] keypoints_client.py 552: job_id 60dcae9c93247fbd991aebb0 is running, progress: not updated yet\n",
            "2021-06-30 17:51:03,153 [INFO] keypoints_client.py 214: client calls service (get): https://keypoint-matching-backend.debater.res.ibm.com/kp_extraction\n",
            "2021-06-30 17:51:03,751 [INFO] keypoints_client.py 552: job_id 60dcae9c93247fbd991aebb0 is running, progress: not updated yet\n",
            "2021-06-30 17:51:08,753 [INFO] keypoints_client.py 214: client calls service (get): https://keypoint-matching-backend.debater.res.ibm.com/kp_extraction\n",
            "2021-06-30 17:51:09,662 [INFO] keypoints_client.py 552: job_id 60dcae9c93247fbd991aebb0 is running, progress: not updated yet\n",
            "2021-06-30 17:51:14,663 [INFO] keypoints_client.py 214: client calls service (get): https://keypoint-matching-backend.debater.res.ibm.com/kp_extraction\n",
            "2021-06-30 17:51:15,787 [INFO] keypoints_client.py 552: job_id 60dcae9c93247fbd991aebb0 is running, progress: not updated yet\n",
            "2021-06-30 17:51:20,790 [INFO] keypoints_client.py 214: client calls service (get): https://keypoint-matching-backend.debater.res.ibm.com/kp_extraction\n",
            "2021-06-30 17:51:21,731 [INFO] keypoints_client.py 552: job_id 60dcae9c93247fbd991aebb0 is running, progress: not updated yet\n",
            "2021-06-30 17:51:26,734 [INFO] keypoints_client.py 214: client calls service (get): https://keypoint-matching-backend.debater.res.ibm.com/kp_extraction\n",
            "2021-06-30 17:51:27,756 [INFO] keypoints_client.py 552: job_id 60dcae9c93247fbd991aebb0 is running, progress: not updated yet\n",
            "2021-06-30 17:51:32,759 [INFO] keypoints_client.py 214: client calls service (get): https://keypoint-matching-backend.debater.res.ibm.com/kp_extraction\n",
            "2021-06-30 17:51:34,250 [INFO] keypoints_client.py 552: job_id 60dcae9c93247fbd991aebb0 is running, progress: not updated yet\n",
            "2021-06-30 17:51:39,254 [INFO] keypoints_client.py 214: client calls service (get): https://keypoint-matching-backend.debater.res.ibm.com/kp_extraction\n",
            "2021-06-30 17:51:39,833 [INFO] keypoints_client.py 552: job_id 60dcae9c93247fbd991aebb0 is running, progress: not updated yet\n",
            "2021-06-30 17:51:44,835 [INFO] keypoints_client.py 214: client calls service (get): https://keypoint-matching-backend.debater.res.ibm.com/kp_extraction\n",
            "2021-06-30 17:51:45,980 [INFO] keypoints_client.py 552: job_id 60dcae9c93247fbd991aebb0 is running, progress: not updated yet\n",
            "2021-06-30 17:51:50,983 [INFO] keypoints_client.py 214: client calls service (get): https://keypoint-matching-backend.debater.res.ibm.com/kp_extraction\n",
            "2021-06-30 17:51:51,903 [INFO] keypoints_client.py 552: job_id 60dcae9c93247fbd991aebb0 is running, progress: not updated yet\n",
            "2021-06-30 17:51:56,907 [INFO] keypoints_client.py 214: client calls service (get): https://keypoint-matching-backend.debater.res.ibm.com/kp_extraction\n",
            "2021-06-30 17:51:58,894 [INFO] keypoints_client.py 555: job_id 60dcae9c93247fbd991aebb0 is done, returning result\n"
          ],
          "name": "stderr"
        },
        {
          "output_type": "stream",
          "text": [
            "Random sample 2016 coverage: 28.36\n",
            "Random sample 2016 key points:\n",
            "39 - We need better mass transit!\n",
            "\t- Need more bus routes!\n",
            "\t- NEED BETTER PUBLIC TRANSPORTATION\n",
            "34 - Affordable housing, traffic, cleaner streets/roads.\n",
            "\t- TRAFFIC AND AFFORDABLE HOUSING ARE THE BIGGEST PROBLEM TO LIVING HERE.\n",
            "\t- Also, the traffic in Austin is ridiculous and the lack of public transportation needs\n",
            "\t  improvements.\n",
            "24 - Affordable housing is very important.\n",
            "\t- Affordable housing is crucial, & keeping seniors in their homes is part of that challenge!\n",
            "\t- Affordable housing MUST become a reality/ahora!\n",
            "21 - Homeowners taxes are a problem.\n",
            "\t- Cost of living here is to high & tax for my home is to high.\n",
            "\t- High property taxes seem to be one of the two reasons why people I know are leaving\n",
            "\t  Austin (traffic being the other reason).\n",
            "19 - Water costs too much.\n",
            "\t- The cost or water is excessive and way too high.\n",
            "\t- Also, the cost of my water bill is insanely high and I am about to protest it!\n",
            "17 - Provide public transportation to prevent traffic overflow.\n",
            "\t- Work with the state to improve transportation to ease congestion.\n",
            "\t- Contributing to the traffic congestion going into the city.\n",
            "13 - Taxes/expenses go up, services go down.\n",
            "\t- Cost of housing, taxes, utilities are killing everything that was good about Austin.\n",
            "\t- Your conservation programs take our money and give it back to us and raising our cost of\n",
            "\t  utilities and taxes.\n",
            "10 - Keep Austin Beautiful, Healthy, Kind and Safe!\n",
            "\t- FOR MY FAMILY I'M LOOKING FOR AN AUSTIN THAT IS SAFE,DIVERSE,STIMULATING,CLEAN AND LAID\n",
            "\t  BACK.\n",
            "\t- Also, keeping streets and parks clean, lights burning,  crime controlled.\n",
            "9 - HOUSING PRICES ARE OUT OF CONTROL.\n",
            "\t- Water bills are way out of control....\n",
            "\t- Taxes have gone out of control!!\n",
            "9 - Infrastructure can't support rapid growth.\n",
            "\t- It cannot handle the high number of people!!\n",
            "\t- It is growing too quickly.\n",
            "9 - MAKE DEVELOPMENT EASIER AND FASTER.\n",
            "\t- Have permits for new commercial build outs be processed faster.\n",
            "\t- Let's make it easy to get here on a global scale.\n",
            "9 - electric rates are too high\n",
            "\t- Rates are to high\n",
            "\t- HIGH TAX HIGH ELECTRIC AND WINTER RATES.\n",
            "6 - DEVELOPMENT SHOULD NOT DISPLACE LOW INCOME FAMILIES.\n",
            "\t- TOLL ROADS DISCRIMINATE AGAINST LOW INCOME PEOPLE.\n",
            "\t- Something about low income-housing.\n",
            "5 - Better training and sensitivity is needed.\n",
            "\t- Better training for the 3-1-1 operators.\n",
            "\t- NEED TO IMPROVE POLICE ACCOUNTABILITY AND CURB ENTRIFICATION\n",
            "5 - Electricity, trash, water, all too high now.\n",
            "\t- Cost of water and electricity , too high.\n",
            "\t- TRAFFIC AND COST OF ELECTRIC AND WATER.\n",
            "4 - CONSERVATION OF WATER AND PROVIDE GREEN SPACE\n",
            "\t- That combined with quality and preservation of outdoor spaces that make Austin such an\n",
            "\t  attractive location and place to live.\n",
            "\t- Austin is a unique city with exceptional green space in spite of its growth.\n",
            "3 - CRIME IS ON THE INCREASE.\n",
            "\t- Could that be why crime is getting so bad?\n",
            "\t- The crime in our neighborhood is out of control.\n",
            "3 - PROPERTY TAX IS A BROKEN SYSTEM.\n",
            "\t- Please fix building permit processes, it's crooked!\n",
            "\t- The building inspectors all have different criteria for approving permits and the system\n",
            "\t  is onerous to say the least.\n",
            "3 - Public transportation has always been problematic here.\n",
            "\t- HIGHWAY SYSTEM THRU CITY IS TERRIBLE\n",
            "\t- TRAFFIC IS A BIG PROBLEM.\n",
            "3 - Speed limits in neighborhoods are too fast.\n",
            "\t- People in my neighborhood drive 40-50 up Scotland Well Drive, the speed limit is 30!\n",
            "\t- Especially the Guadalupe street.\n"
          ],
          "name": "stdout"
        }
      ]
    },
    {
      "cell_type": "markdown",
      "metadata": {
        "id": "bBhr7OZ5Uifz"
      },
      "source": [
        "## 2. Run *Key Point Analysis* on 1000 top quality sentences from 2016 survey\n",
        "### 2.1 Select top 1000 sentences from 2016 data using the *Argument Quality* service\n",
        "The answers in the Austin Survey dataset vary in length, style and quality. Selecting the sentences randomly may lead to running over many sentences that are not very informative. Running over the randomly selected sentences reached a 28.36% coverage. This means that only 28.36% of the sentences matched a key point. In order to improve the coverage and the quality of our results, we will now run over higher quality sentences and select the 1000 sentences with the highest *Argument Quality* score. The *Argument Quality* service receives pairs of \\[sentence, topic\\] and returns a score indicating whether the sentence is phrased in grammatically correct, clear and concise language.   The ranking of the quality is based on the machine learning model, which was trained on human assesments of over 30,000 arguments. "
      ],
      "id": "bBhr7OZ5Uifz"
    },
    {
      "cell_type": "code",
      "metadata": {
        "id": "8RA5T6LdUifz"
      },
      "source": [
        "from austin_utils import print_top_and_bottom_k_sentences\n",
        "\n",
        "def get_top_quality_sentences(sentences, top_k, topic):    \n",
        "    arg_quality_client = debater_api.get_argument_quality_client()\n",
        "    sentences_topic = [{'sentence': sentence['text'], 'topic': topic} for sentence in sentences]\n",
        "    arg_quality_scores = arg_quality_client.run(sentences_topic)\n",
        "    sentences_and_scores = zip(sentences, arg_quality_scores)\n",
        "    sentences_and_scores_sorted = sorted(sentences_and_scores, key=lambda x: x[1], reverse=True)\n",
        "    sentences_sorted = [sentence for sentence, _ in sentences_and_scores_sorted]\n",
        "    print_top_and_bottom_k_sentences(sentences_sorted, 10)\n",
        "    return sentences_sorted[:top_k]\n",
        "\n",
        "sentences_2016_top_1000_aq = get_top_quality_sentences(sentences_2016, 1000, 'Austin is a great place to live')"
      ],
      "id": "8RA5T6LdUifz",
      "execution_count": null,
      "outputs": []
    },
    {
      "cell_type": "markdown",
      "metadata": {
        "id": "XeWpIjjCUif0"
      },
      "source": [
        "### 2.2 Run *Key Point Analysis* over the selected sentences\n",
        "We will now run the *run_kpa* method over the top 1000 quality sentences"
      ],
      "id": "XeWpIjjCUif0"
    },
    {
      "cell_type": "code",
      "metadata": {
        "id": "KEIleyNwUif0"
      },
      "source": [
        "kpa_result_top_aq_1000_2016, _ = run_kpa(sentences_2016_top_1000_aq, {'n_top_kps': 20})\n",
        "print_results(kpa_result_top_aq_1000_2016, n_sentences_per_kp=2, title='Top aq 2016')"
      ],
      "id": "KEIleyNwUif0",
      "execution_count": null,
      "outputs": []
    },
    {
      "cell_type": "markdown",
      "metadata": {
        "id": "NZSKNMBrUif0"
      },
      "source": [
        "### 2.3 Customize key point analysis\n",
        "It is possible to costumize and affect the analysis by passing different parameters in the *run_params* dictionary. In this subsection we will see few examples.\n",
        "\n",
        "#### 2.3.1 Hierarchical key points\n",
        "Often, few key points address a similar topic. In order to get an even clearer sumamry of the data, we can group similar key points together using the *Hierarchical Key Points* feature. To acrivate it we add two additional parameters to run_params: {'perform_kp_hierarchy': True, 'kp_hierarchy_threshold': 0.3}. *perform_kp_hierarchy* activates the feature and *kp_hierarchy_threshold* sets a threshold for grouping similar key points. The lower the threshold, more key points are grouped with lower similarity."
      ],
      "id": "NZSKNMBrUif0"
    },
    {
      "cell_type": "code",
      "metadata": {
        "id": "BD4qaJk3Uif0"
      },
      "source": [
        "kpa_result_top_aq_1000_2016, _ = run_kpa(sentences_2016_top_1000_aq, \n",
        "                                    {'n_top_kps': 20, 'perform_kp_hierarchy': True, 'kp_hierarchy_threshold': 0.3})\n",
        "print_results(kpa_result_top_aq_1000_2016, n_sentences_per_kp=2, title='Top aq 2016, hierarchical')"
      ],
      "id": "BD4qaJk3Uif0",
      "execution_count": null,
      "outputs": []
    },
    {
      "cell_type": "markdown",
      "metadata": {
        "id": "e_QB8r1CUif1"
      },
      "source": [
        "#### 2.3.2 Increase coverage by decreasing the matching threshold\n",
        "Running over higher quality sentences we managed to increase our coverage to 41.05%. In order to increase the coverage more, we will add another parameter to the run_params called *mapping_threshold*. \n",
        "\n",
        "The mapping_threshold is responsible of deciding whether a sentences matches (supports) a key point. Therefore reducing the threshold from the 0.99 default value makes more sentences match key points and increases the coverage, at the risk of reducing the precision."
      ],
      "id": "e_QB8r1CUif1"
    },
    {
      "cell_type": "code",
      "metadata": {
        "scrolled": true,
        "id": "MQyh393AUif1"
      },
      "source": [
        "kpa_result_top_aq_1000_2016, kpa_top_aq_1000_2016_job_id = run_kpa(sentences_2016_top_1000_aq, \n",
        "                                                                {'n_top_kps': 20, 'mapping_threshold': 0.95})\n",
        "print_results(kpa_result_top_aq_1000_2016, n_sentences_per_kp=2, title='Top aq 2016')"
      ],
      "id": "MQyh393AUif1",
      "execution_count": null,
      "outputs": []
    },
    {
      "cell_type": "markdown",
      "metadata": {
        "id": "9bjXNSh1Uif2"
      },
      "source": [
        "The coverage was indeed increased to about 50%. Let's examine the bottom 5 sentences that were matched to the first key point and make sure that the precision is still high."
      ],
      "id": "9bjXNSh1Uif2"
    },
    {
      "cell_type": "code",
      "metadata": {
        "id": "4MszpZvSUif2"
      },
      "source": [
        "from austin_utils import print_bottom_matches_for_kp\n",
        "print_bottom_matches_for_kp(kpa_result_top_aq_1000_2016, 'Traffic congestion needs major improvement', 5)"
      ],
      "id": "4MszpZvSUif2",
      "execution_count": null,
      "outputs": []
    },
    {
      "cell_type": "markdown",
      "metadata": {
        "id": "hR7QGr5zUif2"
      },
      "source": [
        "## 3. Run *Key Point Analysis* over 2017 survey using the key points from 2016 survey\n",
        "### 3.1 Select top 1000 sentences from 2017 data using the *Argument Quality* service\n",
        "It is very useful to be able to compare between different subsets of the data (compare between different years, different districts, etc'). We will demonstrate how easy it is to compare the 2017 data to the 2016 data. A similar comparisson can be done between districts or other subsets. \n",
        "\n",
        "Let's first filter the 2017 sentences and take the top 1000 quality sentences, as done for the 2016 sentences."
      ],
      "id": "hR7QGr5zUif2"
    },
    {
      "cell_type": "code",
      "metadata": {
        "id": "3XAOs_akUif2"
      },
      "source": [
        "sentences_2017 = [sentence for sentence in sentences if sentence['year'] == '2017']\n",
        "sentences_2017_top_1000_aq = get_top_quality_sentences(sentences_2017, 1000, 'Austin is a great place to live')"
      ],
      "id": "3XAOs_akUif2",
      "execution_count": null,
      "outputs": []
    },
    {
      "cell_type": "markdown",
      "metadata": {
        "id": "pnbV3TR7Uif3"
      },
      "source": [
        "### 3.2 Run *Key Point Analysis* over top 1000 quality 2017 sentences using the key points from 2016\n",
        "Exercise 2:<br/>\n",
        "In order to compare the 2017 sentences to 2016 sentences we will want to map the 2017 sentences to the same key points extracted on the 2016 sentences (otherwise different key points could be automattically extracted on the 2017 sentences and it would be hard to compare between them).\n",
        "\n",
        "For this end we will reimplement the *run_kpa* method (please copy paste the previous one and modify it). This time the method will receive a new *key_points_by_job_id* parameter. This parameter is passed to the *key_points_by_job_id* parameter in the **future = keypoints_client.start_kp_analysis_job(domain=domain, comments_ids=sentences_ids, run_params=run_params, key_points_by_job_id=key_points_by_job_id)** method. When *None* is passed to *key_points_by_job_id*, key points are automatically extracted, however when it is set with a *job_id* of a previous job it uses the key points from that job and matches all sentences to them."
      ],
      "id": "pnbV3TR7Uif3"
    },
    {
      "cell_type": "code",
      "metadata": {
        "id": "pqLNZSaJUif3"
      },
      "source": [
        "def run_kpa(sentences, run_params, key_points_by_job_id=None):\n",
        "    sentences_texts = [sentence['text'] for sentence in sentences]\n",
        "    sentences_ids = [sentence['id'] for sentence in sentences]\n",
        "\n",
        "    print('Please implement')\n",
        "    \n",
        "    return kpa_result, future.get_job_id()"
      ],
      "id": "pqLNZSaJUif3",
      "execution_count": null,
      "outputs": []
    },
    {
      "cell_type": "markdown",
      "metadata": {
        "id": "6WsvjYh7Uif3"
      },
      "source": [
        "Let's use the new *run_kpa* and provide it with the *top 1000 quality sentences from 2017* and the job_id of *top 1000 quality sentences from 2016*."
      ],
      "id": "6WsvjYh7Uif3"
    },
    {
      "cell_type": "code",
      "metadata": {
        "id": "D9O2sLDpUif4"
      },
      "source": [
        "kpa_result_top_aq_1000_2017, _ = run_kpa(sentences_2017_top_1000_aq, \n",
        "                                    {'n_top_kps': 20, 'mapping_threshold': 0.95}, kpa_top_aq_1000_2016_job_id)\n",
        "print_results(kpa_result_top_aq_1000_2017, n_sentences_per_kp=2, title='Top aq 2017, using 2016 key points')"
      ],
      "id": "D9O2sLDpUif4",
      "execution_count": null,
      "outputs": []
    },
    {
      "cell_type": "markdown",
      "metadata": {
        "id": "EDA_IaMLUif4"
      },
      "source": [
        "Since both jobs have the same key points, we can now easily compare the two results."
      ],
      "id": "EDA_IaMLUif4"
    },
    {
      "cell_type": "code",
      "metadata": {
        "scrolled": true,
        "id": "6F8H8r8iUif5"
      },
      "source": [
        "from austin_utils import compare_results\n",
        "\n",
        "compare_results(kpa_result_top_aq_1000_2016, '2016', kpa_result_top_aq_1000_2017, '2017')"
      ],
      "id": "6F8H8r8iUif5",
      "execution_count": null,
      "outputs": []
    },
    {
      "cell_type": "markdown",
      "metadata": {
        "id": "AhS7oVvEUif5"
      },
      "source": [
        "Note: This comparision is for illustration only. Given that we ran on a subset of comments, the statistical significant of difference between the years is limited, except for the most recurring keypoints."
      ],
      "id": "AhS7oVvEUif5"
    },
    {
      "cell_type": "markdown",
      "metadata": {
        "id": "FalZilB1Uif5"
      },
      "source": [
        "## 4. Deep dive into the *traffic problem* in Austin using the *Term Wikifier* and *Term Relater* services\n",
        "As we've seen in the 2016 results, that the traffic problem in Austin is significant. In this section we will use the *Term Wikifier* and *Term Relater* services to select a subset of the sentences related to the *Traffic* topic and run *Key Point Analysis* over them. \n",
        "\n",
        "The *Term Wikifier* service runs over sentences and identifies the Wikipedia concepts that are referenced by phrases in the sentence text.  Concepts correspond to Wikipedia articles.  Each occurance of a concept in the sentence is called a *mention*.  For example, the sentence \"My car insurance went up 20% due to vehicle thefts and burglary\" mentions three Wikipedia concepts: The phrase \"car insurance\" is mapped to the concept *Vehicle insurance*; the phrase \"vehicle thefts\" is mapped to the concept *Motor vehicle theft* and the phrase \"burglary\" is mapped to the concept *Burglary*.\n",
        "\n",
        "The *Term Relater* service runs over pairs of Wikipedia concepts and scores how closely these concepts are related.  For example, the *Car* concept is very related to the *Traffic* concept but the *Cat* concept is not very related to the *Traffic* concept.\n",
        "\n",
        "We will use the *Term Wikifier* to extract all mentions in all sentences; then use the *Term Relater* to select a subset of these mentions which are related to the 'Traffic' concept; then select all sentences that have mentions related to the 'Traffic' concept; and finally run *Key Point Analysis* over them. Running over these sentences will create key points specifically to the traffic problem in Austin and expose insights and suggestions related to it."
      ],
      "id": "FalZilB1Uif5"
    },
    {
      "cell_type": "markdown",
      "metadata": {
        "id": "PqgiYb18Uif6"
      },
      "source": [
        "### 4.1 Calculate the mentions in the sentences using the *Term Wikifier*\n",
        "Exercise 3:\n",
        "\n",
        "Please complete the missing parts in the *get_sentence_to_mentions(sentences_texts)* method. The method uses the *Term Wikifier* service, calculates the mentions for each sentence and stores it in a dictionary named *sentence_to_mentions*. \n",
        "\n",
        "The *Term Wikifier* client runs over the sentences_texts using the **mentions_list = term_wikifier_client.run(sentences_texts)** method and returns a list of mentions_lists."
      ],
      "id": "PqgiYb18Uif6"
    },
    {
      "cell_type": "code",
      "metadata": {
        "id": "wRagM5GPUif6"
      },
      "source": [
        "def get_sentence_to_mentions(sentences_texts):\n",
        "    term_wikifier_client = debater_api.get_term_wikifier_client()\n",
        "\n",
        "    print('Please implement')\n",
        "    \n",
        "    sentence_to_mentions = {}\n",
        "    for sentence_text, mentions in zip(sentences_texts, mentions_list):\n",
        "        sentence_to_mentions[sentence_text] = set([mention['concept']['title'] for mention in mentions])\n",
        "    return sentence_to_mentions"
      ],
      "id": "wRagM5GPUif6",
      "execution_count": null,
      "outputs": []
    },
    {
      "cell_type": "markdown",
      "metadata": {
        "id": "Nvo5-Z3LUif6"
      },
      "source": [
        "Let's calculate the mentions on all 2016 sentences\""
      ],
      "id": "Nvo5-Z3LUif6"
    },
    {
      "cell_type": "code",
      "metadata": {
        "id": "li-kzxYKUif7"
      },
      "source": [
        "sentences_2016_texts = [sentence['text'] for sentence in sentences_2016]\n",
        "sentence_to_mentions = get_sentence_to_mentions(sentences_2016_texts)"
      ],
      "id": "li-kzxYKUif7",
      "execution_count": null,
      "outputs": []
    },
    {
      "cell_type": "markdown",
      "metadata": {
        "id": "2t5P_FJNUif7"
      },
      "source": [
        "### 4.2 Find the mentions that relate to the *traffic* concept using the *Term Relater* service\n",
        "Since we're interested in the *Traffic* concept, we will now take all mentions and find the ones that are related to that concept. Then we will select all sentences that have at least one mention that is related to the *Traffic* concept."
      ],
      "id": "2t5P_FJNUif7"
    },
    {
      "cell_type": "code",
      "metadata": {
        "id": "Okl79nLPUif7"
      },
      "source": [
        "all_mentions = set([mention for sentence in sentence_to_mentions \n",
        "                   for mention in sentence_to_mentions[sentence]])"
      ],
      "id": "Okl79nLPUif7",
      "execution_count": null,
      "outputs": []
    },
    {
      "cell_type": "markdown",
      "metadata": {
        "id": "5GFEjyG1Uif7"
      },
      "source": [
        "Exercise 4:<br/>\n",
        "Please complete the missing parts in the *get_related_mentions(concept, threshold, all_mentions)* method. It receives a given concept, a threshold and all_mentions. It then uses the *Term Relater* service to calculate the relatedness between the mentions and the concept and returns all mentions that have relatedness score above the given threhold. The *term_relater_client* runs over the pairs using the **scores = term_relater_client.run(concept_mention_pairs)** method and returns a list of scores."
      ],
      "id": "5GFEjyG1Uif7"
    },
    {
      "cell_type": "code",
      "metadata": {
        "id": "fv0BbNmXUif7"
      },
      "source": [
        "def get_related_mentions(concept, threshold, all_mentions):\n",
        "    term_relater_client = debater_api.get_term_relater_client()\n",
        "    concept_mention_pairs = [[concept, mention] for mention in all_mentions]\n",
        "\n",
        "    print('Please implement')\n",
        "    \n",
        "    return [mention for mention, score in zip(all_mentions, scores) if score > threshold]"
      ],
      "id": "fv0BbNmXUif7",
      "execution_count": null,
      "outputs": []
    },
    {
      "cell_type": "markdown",
      "metadata": {
        "id": "KNaJgv6SUif8"
      },
      "source": [
        "We will now use the method you've implemented and find the mentions that match the *traffic* concept."
      ],
      "id": "KNaJgv6SUif8"
    },
    {
      "cell_type": "code",
      "metadata": {
        "id": "byQ4g0U_Uif8"
      },
      "source": [
        "matched_mentions = get_related_mentions('Traffic', 0.5, all_mentions)\n",
        "print(matched_mentions)"
      ],
      "id": "byQ4g0U_Uif8",
      "execution_count": null,
      "outputs": []
    },
    {
      "cell_type": "markdown",
      "metadata": {
        "id": "bqTSqjtSUif8"
      },
      "source": [
        "### 4.3 Run *Key Point Analysis* over the sentences that relate to the *Traffic* concept\n",
        "Let's select the sentences that have mentions that are related to the *Traffic* concept and run over them. We will need to switch back from sentences_texts to sentences dictionaries since our *run_kpa* method needs the sentences dictionaries."
      ],
      "id": "bqTSqjtSUif8"
    },
    {
      "cell_type": "code",
      "metadata": {
        "id": "ZMbjUgTCUif9"
      },
      "source": [
        "matched_sentences_texts = [sentence for sentence in sentences_2016_texts \n",
        "                     if len(sentence_to_mentions[sentence].intersection(matched_mentions)) > 0]\n",
        "matched_sentences = [sentence for sentence in sentences_2016 if sentence['text'] in matched_sentences_texts]\n",
        "matched_sentences = matched_sentences if len(matched_sentences) <= 1000 else random.sample(matched_sentences, 1000)\n",
        "print('Running over %d sentences' % len(matched_sentences))"
      ],
      "id": "ZMbjUgTCUif9",
      "execution_count": null,
      "outputs": []
    },
    {
      "cell_type": "markdown",
      "metadata": {
        "id": "k1s3F_0qUif9"
      },
      "source": [
        "Finally, let's run over these sentences and examine the *Traffic* related key points"
      ],
      "id": "k1s3F_0qUif9"
    },
    {
      "cell_type": "code",
      "metadata": {
        "id": "zeN-aykkUif-"
      },
      "source": [
        "kpa_result_traffic_2016, _ = run_kpa(matched_sentences, {'n_top_kps': 20, 'mapping_threshold': 0.99}, None)\n",
        "print_results(kpa_result_traffic_2016, n_sentences_per_kp=2, title='Traffic KPA 2016')"
      ],
      "id": "zeN-aykkUif-",
      "execution_count": null,
      "outputs": []
    },
    {
      "cell_type": "markdown",
      "metadata": {
        "id": "xfgLk1ScUif-"
      },
      "source": [
        "### 4.4 Conclusion"
      ],
      "id": "xfgLk1ScUif-"
    },
    {
      "cell_type": "markdown",
      "metadata": {
        "id": "m2hefaVjUif-"
      },
      "source": [
        "In this tutorial, we showed how *Key Point Analysis* can provide you with detailed insights over survey data right out of the box - significantly reducing the effort required by a data scientist to analyze the data.  We also demonstrated how key point analysis over unstructured text can be combined with available structured information, to provide new views over the data.   Finally, we showed how utilizing of additional Project Debater text analysis services such as *Argument Quality*, *Term Wikifier* , and *Term Relater* can further improve the quality of the results."
      ],
      "id": "m2hefaVjUif-"
    }
  ]
}