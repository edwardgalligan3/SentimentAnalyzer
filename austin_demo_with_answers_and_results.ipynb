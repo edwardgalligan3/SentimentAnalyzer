{
  "nbformat": 4,
  "nbformat_minor": 5,
  "metadata": {
    "kernelspec": {
      "name": "python3",
      "display_name": "Python 3"
    },
    "colab": {
      "name": "austin_demo_with_answers_and_results.ipynb",
      "provenance": [],
      "collapsed_sections": [],
      "include_colab_link": true
    },
    "language_info": {
      "name": "python"
    }
  },
  "cells": [
    {
      "cell_type": "markdown",
      "metadata": {
        "id": "view-in-github",
        "colab_type": "text"
      },
      "source": [
        "<a href=\"https://colab.research.google.com/github/edwardgalligan3/SentimentAnalyzer/blob/main/austin_demo_with_answers_and_results.ipynb\" target=\"_parent\"><img src=\"https://colab.research.google.com/assets/colab-badge.svg\" alt=\"Open In Colab\"/></a>"
      ]
    },
    {
      "cell_type": "markdown",
      "metadata": {
        "id": "6Emk1TPQUifm"
      },
      "source": [
        "# Using Project Debater services for analyzing and finding insights in the survey data \n",
        "When you have a large collection of texts representing people’s opinions (such as product reviews, survey answers or  social media), it is difficult to understand the key issues that come up in the data. Going over thousands of comments is prohibitively expensive.  Existing automated approaches are often limited to identifying recurring phrases or concepts and the overall sentiment toward them, but do not provide detailed or actionable insights.\n",
        "\n",
        "In this tutorial you will gain hands-on experience in using Project Debater services for analyzing and deriving insights from open-ended answers.  \n",
        "\n",
        "The data we will use is a community survey conducted in the city of Austin in the years 2016 and 2017 (https://data.world/cityofaustin/mf9f-kvkk). In this survey, the citizens of Austin where asked \"If there was ONE thing you could share with the Mayor regarding the City of Austin (any comment, suggestion, etc.), what would it be?\". \n",
        "\n",
        "We will analyze their open-ended answers in different ways by using four Debater services, the *Argument Quality* service, the *Key Point Analysis (KPA)* service, the *Term Wikifier* service and the *Term Relater* service, and we will see how they can be combined into a powerful text analysis tool."
      ],
      "id": "6Emk1TPQUifm"
    },
    {
      "cell_type": "markdown",
      "metadata": {
        "id": "BeSbL7Q6pxm0"
      },
      "source": [
        "## 0. Environment Setup\n",
        "Please replace 'PUT_YOUR_API_KEY_HERE' with the api-key retreived from the Early-Access-program site.\n",
        "![2021_06_27_0k2_Kleki.png](data:image/png;base64,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)"
      ],
      "id": "BeSbL7Q6pxm0"
    },
    {
      "cell_type": "code",
      "metadata": {
        "id": "tiey_oz9UjNS"
      },
      "source": [
        "print('Set Api-Key:')\n",
        "api_key = 'PUT_YOUR_API_KEY_HERE'\n",
        "\n",
        "if api_key == \"PUT_YOUR_API_KEY_HERE\":\n",
        "    raise ValueError(\"Please set the api_key parameter with the value of the API KEY found in the API-KEY \"\n",
        "        \"tab of the Early Access Program Website. It currently uses a placeholder template\")\n",
        "\n",
        "print('Install Early-Access-Program SDK:')\n",
        "!wget -P . https://early-access-program.debater.res.ibm.com/sdk/python_api.tar.gz\n",
        "!tar -xvf python_api.tar.gz\n",
        "!cd python_api ; pip install .\n",
        "!rm -f python_api.tar.gz*\n",
        "\n",
        "print('Fetch additional code and data-set for the tutorial site: https://github.com/IBM/debater-eap-tutorial :')\n",
        "!rm -f dataset_austin_sentences*\n",
        "!rm -f austin_utils*\n",
        "\n",
        "!wget -P . https://raw.githubusercontent.com/IBM/debater-eap-tutorial/main/survey_usecase/dataset_austin_sentences.csv\n",
        "!wget -P . https://raw.githubusercontent.com/IBM/debater-eap-tutorial/main/survey_usecase/austin_utils.py"
      ],
      "id": "tiey_oz9UjNS",
      "execution_count": null,
      "outputs": []
    },
    {
      "cell_type": "markdown",
      "metadata": {
        "id": "jynQa1dyUifo"
      },
      "source": [
        "## 1. Run *Key Point Analysis* on 1000 randomly selected sentences from 2016 survey"
      ],
      "id": "jynQa1dyUifo"
    },
    {
      "cell_type": "markdown",
      "metadata": {
        "id": "rfW2ufLsUifp"
      },
      "source": [
        "### 1.1 Read random sample of 1000 sentences from 2016 comments\n",
        "Let's take a look at the first 5 lines in the *dataset_austin_sentences.csv* file, which holds the Austin survey dataset."
      ],
      "id": "rfW2ufLsUifp"
    },
    {
      "cell_type": "code",
      "metadata": {
        "colab": {
          "base_uri": "https://localhost:8080/"
        },
        "id": "-1CmK5pZUifq",
        "outputId": "13de1883-7dac-4b86-a24f-6f57b572c32f"
      },
      "source": [
        "file = open('dataset_austin_sentences.csv', 'r')\n",
        "lines = file.readlines()\n",
        "print('\\n'.join(lines[:5]))"
      ],
      "id": "-1CmK5pZUifq",
      "execution_count": null,
      "outputs": [
        {
          "output_type": "stream",
          "text": [
            "id,text,district,year\n",
            "\n",
            "1,\"Dissatisfied traffic and with traffic, timing of street lights.\",7,2016\n",
            "\n",
            "2,EXTREMELY dissatisfied with cit govt.,7,2016\n",
            "\n",
            "3,\"interfering in local businesses (Uber/Lyft, income property owners).\",7,2016\n",
            "\n",
            "4,\"Also, extremely dissatisfied with all the free handouts to people who are perfectly capable of earning their own money.\",7,2016\n",
            "\n"
          ],
          "name": "stdout"
        }
      ]
    },
    {
      "cell_type": "markdown",
      "metadata": {
        "id": "Rjf02oVfUifr"
      },
      "source": [
        "The file has all the survey answers after they were split into sentences. Each row in the file corresponds to a single sentence. Each row has the following attributes: \\['id', 'text', 'district','year'\\]. We will first read the attached csv file into the 'sentences' variable. "
      ],
      "id": "Rjf02oVfUifr"
    },
    {
      "cell_type": "code",
      "metadata": {
        "id": "gRtqBxZgUifr"
      },
      "source": [
        "import csv\n",
        "import random\n",
        "\n",
        "\n",
        "with open('./dataset_austin_sentences.csv') as csv_file:\n",
        "    reader = csv.DictReader(csv_file)\n",
        "    sentences = list(reader)"
      ],
      "id": "gRtqBxZgUifr",
      "execution_count": null,
      "outputs": []
    },
    {
      "cell_type": "markdown",
      "metadata": {
        "id": "PZZWSkcgUifs"
      },
      "source": [
        "Let's have a look at the content *sentences* variable. "
      ],
      "id": "PZZWSkcgUifs"
    },
    {
      "cell_type": "code",
      "metadata": {
        "colab": {
          "base_uri": "https://localhost:8080/"
        },
        "id": "E_ll231xUifs",
        "outputId": "c82ced1b-c83a-43ec-d39f-0ea3ddfe53b1"
      },
      "source": [
        "print('There are %d sentences in the dataset' % len(sentences))\n",
        "print('Each sentence is a dictionary with the following keys: %s' % str(sentences[0].keys()))"
      ],
      "id": "E_ll231xUifs",
      "execution_count": null,
      "outputs": [
        {
          "output_type": "stream",
          "text": [
            "There are 6274 sentences in the dataset\n",
            "Each sentence is a dictionary with the following keys: odict_keys(['id', 'text', 'district', 'year'])\n"
          ],
          "name": "stdout"
        }
      ]
    },
    {
      "cell_type": "markdown",
      "metadata": {
        "id": "rZFgdK8VUift"
      },
      "source": [
        "Let's select only the sentences from the 2016 survey and randomly sample 1000 out of them. The *Key Point Analysis* service is able to run over hundreds of thousands of sentences, however since the computation is heavy in resources (particularly GPUs) the trial version is limited to 1000 sentences. Using a random.seed(0) is important since we already prepared a hot-cache over these sentences for a quicker *Key Point Analysis* run."
      ],
      "id": "rZFgdK8VUift"
    },
    {
      "cell_type": "code",
      "metadata": {
        "colab": {
          "base_uri": "https://localhost:8080/"
        },
        "id": "ix1HNLkvUifu",
        "outputId": "e1ddc249-9077-4cbf-d7f8-6418bf7a21e6"
      },
      "source": [
        "sentences_2016 = [sentence for sentence in sentences if sentence['year'] == '2016']\n",
        "print('There are %d sentences in the 2016 survey' % len(sentences_2016))\n",
        "random.seed(0)\n",
        "random_sample_sentences_2016 = random.sample(sentences_2016, 1000)"
      ],
      "id": "ix1HNLkvUifu",
      "execution_count": null,
      "outputs": [
        {
          "output_type": "stream",
          "text": [
            "There are 3005 sentences in the 2016 survey\n"
          ],
          "name": "stdout"
        }
      ]
    },
    {
      "cell_type": "markdown",
      "metadata": {
        "id": "LDvIGBcXUifv"
      },
      "source": [
        "### 1.2 Run *Key Point Analysis* on the random sample"
      ],
      "id": "LDvIGBcXUifv"
    },
    {
      "cell_type": "markdown",
      "metadata": {
        "id": "TwqAoqbeUifv"
      },
      "source": [
        "Key point analysis is a novel and promising approach for summarization, with an important quantitative angle. This service summarizes a collection of comments on a given topic as a small set of key points. The salience of each key point is given by the number of its matching sentences in the given comments.\n",
        "\n",
        "Before running the *Key Point Analysis* service we first need to initialize our client.  The DebaterApi object supplies the clients for the various Debater services.   The clients print information using the logger and a suitable verbosity level is should be set. The DebaterApi object is configured with an API key and used to obtain the keypoint client.\n",
        "\n",
        "The *Key Point Analysis* service stores the data (and results cache) in a domain. A user can create several domains, one for each dataset. Domains are only accessible to the user who created them.  In this tutorial, we will run all *Key Point Analysis* jobs in the same domain named 'austin_demo'.\n",
        "\n",
        "Full documentation of the *Key Point Analysis* service can be found [here](https://early-access-program.debater.res.ibm.com/docs/services/keypoints/keypoints_pydoc.html).\n"
      ],
      "id": "TwqAoqbeUifv"
    },
    {
      "cell_type": "code",
      "metadata": {
        "id": "kqgTAhrjUifw"
      },
      "source": [
        "from debater_python_api.api.debater_api import DebaterApi\n",
        "from austin_utils import init_logger\n",
        "import os\n",
        "\n",
        "init_logger()\n",
        "debater_api = DebaterApi(apikey=api_key)\n",
        "keypoints_client = debater_api.get_keypoints_client()\n",
        "domain = 'austin_demo'"
      ],
      "id": "kqgTAhrjUifw",
      "execution_count": null,
      "outputs": []
    },
    {
      "cell_type": "markdown",
      "metadata": {
        "id": "f1981S0QUifx"
      },
      "source": [
        "Exercise 1:\n",
        "\n",
        "Let's define a method named *run_kpa*. The method receives a list of sentences (each sentence is a dictionary with the following keys: 'id','text') and runs *Key Point Analysis* on these sentences. The method also receives the *run_params* parameter, which enable us to customize and affect the *Key Point Analysis* operation.\n",
        "\n",
        "In order to run *Key Point Analysis*, we need to:\n",
        "\n",
        "1. Upload the comments into a domain using the **keypoints_client.upload_comments(domain=domain, comments_ids=sentences_ids, comments_texts=sentences_texts, dont_split=True)** method. This method receives the domain, a list of comment_ids and a list of comment_texts. By default, when uploading comments into a domain, the *Key Point Analysis* service splits the comments into sentences by default and runs a minor cleansing on the sentences. Since we already splitted the comments into sentences ourselves and we want to *Key Point Analysis* service to use them as is, we will set the *dont_split* parameter to True.\n",
        "\n",
        "2. Wait till all comments in the domain are processed using the **keypoints_client.wait_till_all_comments_are_processed(domain=domain)** method.\n",
        "\n",
        "3. Start a *Key Point Analysis* job using the **future = keypoints_client.start_kp_analysis_job(domain=domain, comments_ids=sentences_ids, run_params=run_params)** method. This method receives the domain, a list of comment_ids and a *run_params*. The run_params is a dictionary with various parameters for customizing the job. The job runs in an async manner therefore the method returns a future object.\n",
        "\n",
        "4. Use the returned future and wait till results are available using the **kpa_result = future.get_result(high_verbosity=True, polling_timout_secs=5)** method. The method waits for the job to finish and eventually returns the result. The result is a dictionary containing the key points (sorted descendingly according to number of matched sentences) and for each key point has a list of matched sentences (sorted descendingly according to their match score). An additional 'none' key point is added which holds all the sentences that don't match any key point.\n",
        "\n",
        "Our run_kpa method will return this result dictionary. It will also return the unique identifirt for this analysis called *job_id* retreived from the future. We will need this job_id in a following exercise."
      ],
      "id": "f1981S0QUifx"
    },
    {
      "cell_type": "code",
      "metadata": {
        "id": "rUdlhCGGUifx"
      },
      "source": [
        "def run_kpa(sentences, run_params):\n",
        "    sentences_texts = [sentence['text'] for sentence in sentences]\n",
        "    sentences_ids = [sentence['id'] for sentence in sentences]\n",
        "\n",
        "    keypoints_client.upload_comments(domain=domain, \n",
        "                                     comments_ids=sentences_ids, \n",
        "                                     comments_texts=sentences_texts, \n",
        "                                     dont_split=True)\n",
        "\n",
        "    keypoints_client.wait_till_all_comments_are_processed(domain=domain)\n",
        "\n",
        "    future = keypoints_client.start_kp_analysis_job(domain=domain, \n",
        "                                                    comments_ids=sentences_ids, \n",
        "                                                    run_params=run_params)\n",
        "\n",
        "    kpa_result = future.get_result(high_verbosity=True, \n",
        "                                   polling_timout_secs=5)\n",
        "    \n",
        "    return kpa_result, future.get_job_id()"
      ],
      "id": "rUdlhCGGUifx",
      "execution_count": null,
      "outputs": []
    },
    {
      "cell_type": "markdown",
      "metadata": {
        "id": "tsxCQqe9Uify"
      },
      "source": [
        "We will now use the method you implemented and run over the random sample and print the result. In order to limit the number of key points in the result to 20, we will use *run_params={'n_top_kps': 20}*."
      ],
      "id": "tsxCQqe9Uify"
    },
    {
      "cell_type": "code",
      "metadata": {
        "colab": {
          "base_uri": "https://localhost:8080/"
        },
        "id": "nycZF4j6Uify",
        "outputId": "2e5bb776-2169-40d8-8ca0-b6a6c19ffc25"
      },
      "source": [
        "from austin_utils import print_results\n",
        "\n",
        "kpa_result_random_1000_2016, _ = run_kpa(random_sample_sentences_2016, {'n_top_kps': 20})\n",
        "print_results(kpa_result_random_1000_2016, n_sentences_per_kp=2, title='Random sample 2016')"
      ],
      "id": "nycZF4j6Uify",
      "execution_count": null,
      "outputs": [
        {
          "output_type": "stream",
          "text": [
            "2021-06-27 09:04:12,092 [INFO] keypoints_client.py 284: uploading 1000 comments in batches\n",
            "2021-06-27 09:04:12,096 [INFO] keypoints_client.py 214: client calls service (post): https://keypoint-matching-backend.debater.res.ibm.com/comments\n",
            "2021-06-27 09:04:12,322 [INFO] keypoints_client.py 301: uploaded 1000 comments, out of 1000\n",
            "2021-06-27 09:04:12,324 [INFO] keypoints_client.py 214: client calls service (get): https://keypoint-matching-backend.debater.res.ibm.com/comments\n",
            "2021-06-27 09:04:12,539 [INFO] keypoints_client.py 313: domain: austin_demo, comments status: {'processed_comments': 3122, 'pending_comments': 1000, 'processed_sentences': 3122}\n",
            "2021-06-27 09:04:22,544 [INFO] keypoints_client.py 214: client calls service (get): https://keypoint-matching-backend.debater.res.ibm.com/comments\n",
            "2021-06-27 09:04:22,774 [INFO] keypoints_client.py 313: domain: austin_demo, comments status: {'processed_comments': 3122, 'pending_comments': 0, 'processed_sentences': 3122}\n",
            "2021-06-27 09:04:22,779 [INFO] keypoints_client.py 214: client calls service (post): https://keypoint-matching-backend.debater.res.ibm.com/kp_extraction\n",
            "2021-06-27 09:04:23,218 [INFO] keypoints_client.py 375: started a kp analysis job - domain: austin_demo, job_id: 60d83f1793247fbd991ab860\n",
            "2021-06-27 09:04:23,221 [INFO] keypoints_client.py 214: client calls service (get): https://keypoint-matching-backend.debater.res.ibm.com/kp_extraction\n",
            "2021-06-27 09:04:23,327 [INFO] keypoints_client.py 548: job_id 60d83f1793247fbd991ab860 is pending\n",
            "2021-06-27 09:04:28,335 [INFO] keypoints_client.py 214: client calls service (get): https://keypoint-matching-backend.debater.res.ibm.com/kp_extraction\n",
            "2021-06-27 09:04:28,445 [INFO] keypoints_client.py 548: job_id 60d83f1793247fbd991ab860 is pending\n",
            "2021-06-27 09:04:33,454 [INFO] keypoints_client.py 214: client calls service (get): https://keypoint-matching-backend.debater.res.ibm.com/kp_extraction\n",
            "2021-06-27 09:04:33,688 [INFO] keypoints_client.py 552: job_id 60d83f1793247fbd991ab860 is running, progress: not updated yet\n",
            "2021-06-27 09:04:38,697 [INFO] keypoints_client.py 214: client calls service (get): https://keypoint-matching-backend.debater.res.ibm.com/kp_extraction\n",
            "2021-06-27 09:04:38,946 [INFO] keypoints_client.py 552: job_id 60d83f1793247fbd991ab860 is running, progress: not updated yet\n",
            "2021-06-27 09:04:43,953 [INFO] keypoints_client.py 214: client calls service (get): https://keypoint-matching-backend.debater.res.ibm.com/kp_extraction\n",
            "2021-06-27 09:04:44,374 [INFO] keypoints_client.py 555: job_id 60d83f1793247fbd991ab860 is done, returning result\n"
          ],
          "name": "stderr"
        },
        {
          "output_type": "stream",
          "text": [
            "Random sample 2016 coverage: 28.36\n",
            "Random sample 2016 key points:\n",
            "39 - We need better mass transit!\n",
            "\t- Need more bus routes!\n",
            "\t- NEED BETTER PUBLIC TRANSPORTATION\n",
            "34 - Affordable housing, traffic, cleaner streets/roads.\n",
            "\t- TRAFFIC AND AFFORDABLE HOUSING ARE THE BIGGEST PROBLEM TO LIVING HERE.\n",
            "\t- Also, the traffic in Austin is ridiculous and the lack of public transportation needs\n",
            "\t  improvements.\n",
            "24 - Affordable housing is very important.\n",
            "\t- Affordable housing is crucial, & keeping seniors in their homes is part of that challenge!\n",
            "\t- Affordable housing MUST become a reality/ahora!\n",
            "21 - Homeowners taxes are a problem.\n",
            "\t- Cost of living here is to high & tax for my home is to high.\n",
            "\t- High property taxes seem to be one of the two reasons why people I know are leaving\n",
            "\t  Austin (traffic being the other reason).\n",
            "19 - Water costs too much.\n",
            "\t- The cost or water is excessive and way too high.\n",
            "\t- Also, the cost of my water bill is insanely high and I am about to protest it!\n",
            "17 - Provide public transportation to prevent traffic overflow.\n",
            "\t- Work with the state to improve transportation to ease congestion.\n",
            "\t- Contributing to the traffic congestion going into the city.\n",
            "13 - Taxes/expenses go up, services go down.\n",
            "\t- Cost of housing, taxes, utilities are killing everything that was good about Austin.\n",
            "\t- Your conservation programs take our money and give it back to us and raising our cost of\n",
            "\t  utilities and taxes.\n",
            "10 - Keep Austin Beautiful, Healthy, Kind and Safe!\n",
            "\t- FOR MY FAMILY I'M LOOKING FOR AN AUSTIN THAT IS SAFE,DIVERSE,STIMULATING,CLEAN AND LAID\n",
            "\t  BACK.\n",
            "\t- Also, keeping streets and parks clean, lights burning,  crime controlled.\n",
            "9 - HOUSING PRICES ARE OUT OF CONTROL.\n",
            "\t- Water bills are way out of control....\n",
            "\t- Taxes have gone out of control!!\n",
            "9 - Infrastructure can't support rapid growth.\n",
            "\t- It cannot handle the high number of people!!\n",
            "\t- It is growing too quickly.\n",
            "9 - MAKE DEVELOPMENT EASIER AND FASTER.\n",
            "\t- Have permits for new commercial build outs be processed faster.\n",
            "\t- Let's make it easy to get here on a global scale.\n",
            "9 - electric rates are too high\n",
            "\t- Rates are to high\n",
            "\t- HIGH TAX HIGH ELECTRIC AND WINTER RATES.\n",
            "6 - DEVELOPMENT SHOULD NOT DISPLACE LOW INCOME FAMILIES.\n",
            "\t- TOLL ROADS DISCRIMINATE AGAINST LOW INCOME PEOPLE.\n",
            "\t- Something about low income-housing.\n",
            "5 - Better training and sensitivity is needed.\n",
            "\t- Better training for the 3-1-1 operators.\n",
            "\t- NEED TO IMPROVE POLICE ACCOUNTABILITY AND CURB ENTRIFICATION\n",
            "5 - Electricity, trash, water, all too high now.\n",
            "\t- Cost of water and electricity , too high.\n",
            "\t- TRAFFIC AND COST OF ELECTRIC AND WATER.\n",
            "4 - CONSERVATION OF WATER AND PROVIDE GREEN SPACE\n",
            "\t- That combined with quality and preservation of outdoor spaces that make Austin such an\n",
            "\t  attractive location and place to live.\n",
            "\t- Austin is a unique city with exceptional green space in spite of its growth.\n",
            "3 - CRIME IS ON THE INCREASE.\n",
            "\t- Could that be why crime is getting so bad?\n",
            "\t- The crime in our neighborhood is out of control.\n",
            "3 - PROPERTY TAX IS A BROKEN SYSTEM.\n",
            "\t- Please fix building permit processes, it's crooked!\n",
            "\t- The building inspectors all have different criteria for approving permits and the system\n",
            "\t  is onerous to say the least.\n",
            "3 - Public transportation has always been problematic here.\n",
            "\t- HIGHWAY SYSTEM THRU CITY IS TERRIBLE\n",
            "\t- TRAFFIC IS A BIG PROBLEM.\n",
            "3 - Speed limits in neighborhoods are too fast.\n",
            "\t- People in my neighborhood drive 40-50 up Scotland Well Drive, the speed limit is 30!\n",
            "\t- Especially the Guadalupe street.\n"
          ],
          "name": "stdout"
        }
      ]
    },
    {
      "cell_type": "markdown",
      "metadata": {
        "id": "bBhr7OZ5Uifz"
      },
      "source": [
        "## 2. Run *Key Point Analysis* on 1000 top quality sentences from 2016 survey\n",
        "### 2.1 Select top 1000 sentences from 2016 data using the *Argument Quality* service\n",
        "The answers in the Austin Survey dataset vary in length, style and quality. Selecting the sentences randomly may lead to running over many sentences that are not very informative. Running over the randomly selected sentences reached a 28.36% coverage. This means that only 28.36% of the sentences matched a key point. In order to improve the coverage and the quality of our results, we will now run over higher quality sentences and select the 1000 sentences with the highest *Argument Quality* score. The *Argument Quality* service receives pairs of \\[sentence, topic\\] and returns a score indicating whether the sentence is phrased in grammatically correct, clear and concise language.   The ranking of the quality is based on the machine learning model, which was trained on human assesments of over 30,000 arguments. "
      ],
      "id": "bBhr7OZ5Uifz"
    },
    {
      "cell_type": "code",
      "metadata": {
        "colab": {
          "base_uri": "https://localhost:8080/"
        },
        "id": "8RA5T6LdUifz",
        "outputId": "082ec715-e111-4711-e017-87ef5d48ea6f"
      },
      "source": [
        "from austin_utils import print_top_and_bottom_k_sentences\n",
        "\n",
        "def get_top_quality_sentences(sentences, top_k, topic):    \n",
        "    arg_quality_client = debater_api.get_argument_quality_client()\n",
        "    sentences_topic = [{'sentence': sentence['text'], 'topic': topic} for sentence in sentences]\n",
        "    arg_quality_scores = arg_quality_client.run(sentences_topic)\n",
        "    sentences_and_scores = zip(sentences, arg_quality_scores)\n",
        "    sentences_and_scores_sorted = sorted(sentences_and_scores, key=lambda x: x[1], reverse=True)\n",
        "    sentences_sorted = [sentence for sentence, _ in sentences_and_scores_sorted]\n",
        "    print_top_and_bottom_k_sentences(sentences_sorted, 10)\n",
        "    return sentences_sorted[:top_k]\n",
        "\n",
        "sentences_2016_top_1000_aq = get_top_quality_sentences(sentences_2016, 1000, 'Austin is a great place to live')"
      ],
      "id": "8RA5T6LdUifz",
      "execution_count": null,
      "outputs": [
        {
          "output_type": "stream",
          "text": [
            "ArgumentQualityClient: 100%|██████████| 3005/3005 [00:00<00:00, 9489.07it/s]\n",
            "2021-06-27 09:04:44,742 [INFO] argument_quality_client.py 24: argument_quality_client.run = 333.50110054016113ms.\n"
          ],
          "name": "stderr"
        },
        {
          "output_type": "stream",
          "text": [
            "Top 10 quality sentences: \n",
            "\t- Affordable housing is essential to keep Austin diverse, welcoming, and growing in the\n",
            "\t  ways that reflect the progressive ideals of this city and the future generations.\n",
            "\t- Austin has a unique charm, with high quality customer service,  and great quality of\n",
            "\t  life that will quickly deteriorate with this rapid urban sprawl.\n",
            "\t- We need to make sure our city continues to be an example across the country for\n",
            "\t  unwavering progress, with regards to energy, policing, fair housing and employment,\n",
            "\t  non-discrimination policy, and creating a sound infrastructure to accommodate the city's\n",
            "\t  rapid growth.\n",
            "\t- We need a coordinated effort by many agencies to find housing, training, rehab,\n",
            "\t  healthcare and work for our homeless.\n",
            "\t- Affordability and diversity (in culture and age groups) are extremely important to\n",
            "\t  keeping Austin the vibrant, egalitarian city it is.\n",
            "\t- KEEP AUSTIN QUALITY OF LIFE BY INVESTING IN TRAILS, BIKE LANES, SIDEWALKS, PARKS, THESE\n",
            "\t  ARE IMPORTANT FOR ALL SOCIO-ECONOMIC LEVELS AND TO MAINTAIN A PEOPLE CENTRIC COMMUNITY\n",
            "\t- TOLL ROADS DISCRIMINATE AGAINST LOW INCOME PEOPLE.\n",
            "\t- The cost of living in Austin has sky-rocketed, and local businesses are not able or\n",
            "\t  willing to meet the financial needs of the lower-middle class.\n",
            "\t- We need leadership with a progressive vision that can embrace responsible growth and\n",
            "\t  double down on a progressive agenda towards renewable energy and an effective\n",
            "\t  transportation plan that does not rely on more roads and highways for cars.\n",
            "\t- We deserve clean drinking water, not poisoned with endocrine disruptors and neurotoxins.\n",
            "\n",
            "\n",
            "Bottom 10 quality sentences: \n",
            "\t- BRING LYFT UBER BACK.\n",
            "\t- Please compost!\n",
            "\t- FIX THE WASHBOARD SURFACE OF GREYSTONE BETWEEN MESA NAD BALBURN\n",
            "\t- Mistake to let Ott go\n",
            "\t- How does this happen!?!\n",
            "\t- Fix Mopac.\n",
            "\t- Need Uber back! !!!!!!!!!!!\n",
            "\t- WANT ALLON UBER BACK.\n",
            "\t- I want Uber/Lyft.\n",
            "\t- Seriously!?!\n"
          ],
          "name": "stdout"
        }
      ]
    },
    {
      "cell_type": "markdown",
      "metadata": {
        "id": "XeWpIjjCUif0"
      },
      "source": [
        "### 2.2 Run *Key Point Analysis* over the selected sentences\n",
        "We will now run the *run_kpa* method over the top 1000 quality sentences"
      ],
      "id": "XeWpIjjCUif0"
    },
    {
      "cell_type": "code",
      "metadata": {
        "colab": {
          "base_uri": "https://localhost:8080/"
        },
        "id": "KEIleyNwUif0",
        "outputId": "4ef73c33-f55a-41f5-bf9b-28570845d0c8"
      },
      "source": [
        "kpa_result_top_aq_1000_2016, _ = run_kpa(sentences_2016_top_1000_aq, {'n_top_kps': 20})\n",
        "print_results(kpa_result_top_aq_1000_2016, n_sentences_per_kp=2, title='Top aq 2016')"
      ],
      "id": "KEIleyNwUif0",
      "execution_count": null,
      "outputs": [
        {
          "output_type": "stream",
          "text": [
            "2021-06-27 09:04:44,762 [INFO] keypoints_client.py 284: uploading 1000 comments in batches\n",
            "2021-06-27 09:04:44,765 [INFO] keypoints_client.py 214: client calls service (post): https://keypoint-matching-backend.debater.res.ibm.com/comments\n",
            "2021-06-27 09:04:45,015 [INFO] keypoints_client.py 301: uploaded 1000 comments, out of 1000\n",
            "2021-06-27 09:04:45,022 [INFO] keypoints_client.py 214: client calls service (get): https://keypoint-matching-backend.debater.res.ibm.com/comments\n",
            "2021-06-27 09:04:45,207 [INFO] keypoints_client.py 313: domain: austin_demo, comments status: {'processed_comments': 3122, 'pending_comments': 1000, 'processed_sentences': 3122}\n",
            "2021-06-27 09:04:55,212 [INFO] keypoints_client.py 214: client calls service (get): https://keypoint-matching-backend.debater.res.ibm.com/comments\n",
            "2021-06-27 09:04:55,352 [INFO] keypoints_client.py 313: domain: austin_demo, comments status: {'processed_comments': 3122, 'pending_comments': 0, 'processed_sentences': 3122}\n",
            "2021-06-27 09:04:55,353 [INFO] keypoints_client.py 214: client calls service (post): https://keypoint-matching-backend.debater.res.ibm.com/kp_extraction\n",
            "2021-06-27 09:04:55,930 [INFO] keypoints_client.py 375: started a kp analysis job - domain: austin_demo, job_id: 60d83f3793247fbd991ab864\n",
            "2021-06-27 09:04:55,931 [INFO] keypoints_client.py 214: client calls service (get): https://keypoint-matching-backend.debater.res.ibm.com/kp_extraction\n",
            "2021-06-27 09:04:56,040 [INFO] keypoints_client.py 548: job_id 60d83f3793247fbd991ab864 is pending\n",
            "2021-06-27 09:05:01,048 [INFO] keypoints_client.py 214: client calls service (get): https://keypoint-matching-backend.debater.res.ibm.com/kp_extraction\n",
            "2021-06-27 09:05:01,149 [INFO] keypoints_client.py 548: job_id 60d83f3793247fbd991ab864 is pending\n",
            "2021-06-27 09:05:06,155 [INFO] keypoints_client.py 214: client calls service (get): https://keypoint-matching-backend.debater.res.ibm.com/kp_extraction\n",
            "2021-06-27 09:05:06,400 [INFO] keypoints_client.py 552: job_id 60d83f3793247fbd991ab864 is running, progress: not updated yet\n",
            "2021-06-27 09:05:11,407 [INFO] keypoints_client.py 214: client calls service (get): https://keypoint-matching-backend.debater.res.ibm.com/kp_extraction\n",
            "2021-06-27 09:05:11,674 [INFO] keypoints_client.py 552: job_id 60d83f3793247fbd991ab864 is running, progress: not updated yet\n",
            "2021-06-27 09:05:16,684 [INFO] keypoints_client.py 214: client calls service (get): https://keypoint-matching-backend.debater.res.ibm.com/kp_extraction\n",
            "2021-06-27 09:05:16,939 [INFO] keypoints_client.py 552: job_id 60d83f3793247fbd991ab864 is running, progress: not updated yet\n",
            "2021-06-27 09:05:21,945 [INFO] keypoints_client.py 214: client calls service (get): https://keypoint-matching-backend.debater.res.ibm.com/kp_extraction\n",
            "2021-06-27 09:05:22,353 [INFO] keypoints_client.py 555: job_id 60d83f3793247fbd991ab864 is done, returning result\n"
          ],
          "name": "stderr"
        },
        {
          "output_type": "stream",
          "text": [
            "Top aq 2016 coverage: 41.05\n",
            "Top aq 2016 key points:\n",
            "88 - Traffic congestion needs major improvement\n",
            "\t- Austin need improved transportation infrastructure to alleviate current traffic and\n",
            "\t  accommodate rapid population growth.\n",
            "\t- Fast population growth is the cities biggest problem in areas such as congestion and\n",
            "\t  expensiveness.\n",
            "78 - We need affordable housing.\n",
            "\t- Affordable housing is crucial, & keeping seniors in their homes is part of that challenge!\n",
            "\t- We need better housing solutions for low income and homeless individuals.\n",
            "42 - Integrated transportation is critical.\n",
            "\t- a public transit train system is a necessity\n",
            "\t- Steiner Ranch area needs more access to public transportation (bus, train, etc>) and\n",
            "\t  taxi/ridesharing  to/from downtown and airport\n",
            "30 - UTILITY RATES & PROPERTY TAXES ARE OUTRAGEOUS\n",
            "\t- PROPERTY TAXES ARE TOO HIGH.\n",
            "\t- PROPERTY TAXES ARE OUT OF CONTROL.\n",
            "20 - THE HOMELESS POPULATION NEEDS MORE HELP/ATTENTION\n",
            "\t- HOMELESS SITUATION NEEDS TO BE ADDRESSED IN THE DOWNTOWN AREA\n",
            "\t- That is something that needs to be more effectively addressed by the APD.\n",
            "15 - Austin Utility Services need an overhaul-especially water/wastewater.\n",
            "\t- Utilities, particularly water, is too high.\n",
            "\t- Hundreds of gallons of water are wasted by not being collected properly\n",
            "15 - HOUSING PRICES ARE OUT OF CONTROL.\n",
            "\t- IT HAS GOTTEN OUT OF CONTROL.\n",
            "\t- Overall living costs in Austin are too high!\n",
            "15 - Infrastructure can't support rapid growth.\n",
            "\t- In many ways, the city is failing to meet the increasing demands on it's infrastructure\n",
            "\t  due to the growth of the city, especially transportation in the city - roads, public\n",
            "\t  transportation, bicycling, networks/quality, etc.\n",
            "\t- It is growing too quickly.\n",
            "15 - There is constant traffic and noise pollution.\n",
            "\t- IH35 & MoPac congestion is negative for local economy and causes air pollution and\n",
            "\t  causes safety hazards, i.e. dangerous to drive here.\n",
            "\t- My neighborhood has been subjected to 2+ years of noise, dirt, filthy side walks,\n",
            "\t  overgrown common areas, rude drivers, etc.\n",
            "14 - South Austin is losing businesses and residents.\n",
            "\t- Slow down the commercial/entertainment oriented development of central Austin\n",
            "\t  neighborhoods with a focus on preserving the lifestyles and economic viability for\n",
            "\t  residents in the aforementioned central Austin neighborhoods.\n",
            "\t- It is time for the city to place more of the burden on businesses that make tons of\n",
            "\t  money in this city and to take more of the burden away from it's residents.\n",
            "13 - TOLL ROADS DISCRIMINATE AGAINST LOW INCOME PEOPLE.\n",
            "\t- DEVELOPMENT SHOULD NOT DISPLACE LOW INCOME FAMILIES.\n",
            "\t- The middle class (and low income households) can't afford to buy a house in Austin.\n",
            "8 - Better training and sensitivity is needed.\n",
            "\t- Train law enforcement staff the proper way to deal with hostile perpetrators.\n",
            "\t- First responders/EMS/Fire/APD all need training on dealing with citizens with\n",
            "\t  cognitive/mental disabilities.\n",
            "8 - Water consumption rates are too high.\n",
            "\t- The cost or water is excessive and way too high.\n",
            "\t- and Downtown is putting a terrible strain on water availability.\n",
            "6 - WE NEED BETTER FLOOD PLANNING.\n",
            "\t- TO HAVE BETTER PLANNING FOR CITY GROWTH.\n",
            "\t- BETTER LONG RANGE PLANNING ON TRAFFIC FLOW.\n",
            "5 - Code issues are hurting the city.\n",
            "\t- Restrictive zoning, city planning and code enforcement, city council and the mayor\n",
            "\t  worsen out lives.\n",
            "\t- You are ruining the city with your incompetent policies and arrogance.\n",
            "5 - Police response time in unacceptably slow.\n",
            "\t- THE RESPONSE TIME FOR 311 CALLS COMPLAINTS IS EXTREMELY SLOW.\n",
            "\t- But, the process is too slow to remedy the current situation.\n",
            "4 - Roads are poorly maintain.\n",
            "\t- Major thoroughfares poorly planned, not functioning, city streets need repair.\n",
            "\t- This lack of maintenance makes Austin look run down.\n",
            "3 - 30 mph kills children and pedestrians.\n",
            "\t- Pedestrians are at great risk, particularly children, and unrealistic speed limits\n",
            "\t  reflect an Austin that no longer exists.\n",
            "\t- Also now would be a good time to ensure that people who endanger, hurt or kill\n",
            "\t  vulnerable road users will be punished appropriately.\n",
            "3 - CRIME IS ON THE INCREASE.\n",
            "\t- The crime in our neighborhood is out of control.\n",
            "\t- Our taxes have doubled over the past year and so have the crime and police response time.\n",
            "3 - City Council members should represent all citizens.\n",
            "\t- The mayor should be more inclusive to the overall population of city residents than less\n",
            "\t  inclusive when establishing policies and services.\n",
            "\t- Please address this  systemic, out of control, evil, unkindness, money  sucking, taxing\n",
            "\t  without representation on lifetime, homeowner senior citizens of Austin.\n"
          ],
          "name": "stdout"
        }
      ]
    },
    {
      "cell_type": "markdown",
      "metadata": {
        "id": "NZSKNMBrUif0"
      },
      "source": [
        "### 2.3 Customize key point analysis\n",
        "It is possible to costumize and affect the analysis by passing different parameters in the *run_params* dictionary. In this subsection we will see few examples.\n",
        "\n",
        "#### 2.3.1 Hierarchical key points\n",
        "Often, few key points address a similar topic. In order to get an even clearer sumamry of the data, we can group similar key points together using the *Hierarchical Key Points* feature. To acrivate it we add two additional parameters to run_params: {'perform_kp_hierarchy': True, 'kp_hierarchy_threshold': 0.3}. *perform_kp_hierarchy* activates the feature and *kp_hierarchy_threshold* sets a threshold for grouping similar key points. The lower the threshold, more key points are grouped with lower similarity."
      ],
      "id": "NZSKNMBrUif0"
    },
    {
      "cell_type": "code",
      "metadata": {
        "colab": {
          "base_uri": "https://localhost:8080/"
        },
        "id": "BD4qaJk3Uif0",
        "outputId": "bb37a97b-48d4-41c6-d7a0-9e27eb5c1bfa"
      },
      "source": [
        "kpa_result_top_aq_1000_2016, _ = run_kpa(sentences_2016_top_1000_aq, \n",
        "                                    {'n_top_kps': 20, 'perform_kp_hierarchy': True, 'kp_hierarchy_threshold': 0.3})\n",
        "print_results(kpa_result_top_aq_1000_2016, n_sentences_per_kp=2, title='Top aq 2016, hierarchical')"
      ],
      "id": "BD4qaJk3Uif0",
      "execution_count": null,
      "outputs": [
        {
          "output_type": "stream",
          "text": [
            "2021-06-27 09:05:22,375 [INFO] keypoints_client.py 284: uploading 1000 comments in batches\n",
            "2021-06-27 09:05:22,378 [INFO] keypoints_client.py 214: client calls service (post): https://keypoint-matching-backend.debater.res.ibm.com/comments\n",
            "2021-06-27 09:05:22,664 [INFO] keypoints_client.py 301: uploaded 1000 comments, out of 1000\n",
            "2021-06-27 09:05:22,665 [INFO] keypoints_client.py 214: client calls service (get): https://keypoint-matching-backend.debater.res.ibm.com/comments\n",
            "2021-06-27 09:05:22,814 [INFO] keypoints_client.py 313: domain: austin_demo, comments status: {'processed_comments': 3122, 'pending_comments': 1000, 'processed_sentences': 3122}\n",
            "2021-06-27 09:05:32,826 [INFO] keypoints_client.py 214: client calls service (get): https://keypoint-matching-backend.debater.res.ibm.com/comments\n",
            "2021-06-27 09:05:32,971 [INFO] keypoints_client.py 313: domain: austin_demo, comments status: {'processed_comments': 3122, 'pending_comments': 0, 'processed_sentences': 3122}\n",
            "2021-06-27 09:05:32,973 [INFO] keypoints_client.py 214: client calls service (post): https://keypoint-matching-backend.debater.res.ibm.com/kp_extraction\n",
            "2021-06-27 09:05:33,392 [INFO] keypoints_client.py 375: started a kp analysis job - domain: austin_demo, job_id: 60d83f5d93247fbd991ab869\n",
            "2021-06-27 09:05:33,394 [INFO] keypoints_client.py 214: client calls service (get): https://keypoint-matching-backend.debater.res.ibm.com/kp_extraction\n",
            "2021-06-27 09:05:33,549 [INFO] keypoints_client.py 548: job_id 60d83f5d93247fbd991ab869 is pending\n",
            "2021-06-27 09:05:38,555 [INFO] keypoints_client.py 214: client calls service (get): https://keypoint-matching-backend.debater.res.ibm.com/kp_extraction\n",
            "2021-06-27 09:05:38,687 [INFO] keypoints_client.py 548: job_id 60d83f5d93247fbd991ab869 is pending\n",
            "2021-06-27 09:05:43,691 [INFO] keypoints_client.py 214: client calls service (get): https://keypoint-matching-backend.debater.res.ibm.com/kp_extraction\n",
            "2021-06-27 09:05:43,930 [INFO] keypoints_client.py 552: job_id 60d83f5d93247fbd991ab869 is running, progress: not updated yet\n",
            "2021-06-27 09:05:48,937 [INFO] keypoints_client.py 214: client calls service (get): https://keypoint-matching-backend.debater.res.ibm.com/kp_extraction\n",
            "2021-06-27 09:05:49,174 [INFO] keypoints_client.py 552: job_id 60d83f5d93247fbd991ab869 is running, progress: not updated yet\n",
            "2021-06-27 09:05:54,181 [INFO] keypoints_client.py 214: client calls service (get): https://keypoint-matching-backend.debater.res.ibm.com/kp_extraction\n",
            "2021-06-27 09:05:54,418 [INFO] keypoints_client.py 552: job_id 60d83f5d93247fbd991ab869 is running, progress: not updated yet\n",
            "2021-06-27 09:05:59,424 [INFO] keypoints_client.py 214: client calls service (get): https://keypoint-matching-backend.debater.res.ibm.com/kp_extraction\n",
            "2021-06-27 09:05:59,852 [INFO] keypoints_client.py 555: job_id 60d83f5d93247fbd991ab869 is done, returning result\n"
          ],
          "name": "stderr"
        },
        {
          "output_type": "stream",
          "text": [
            "Top aq 2016, hierarchical coverage: 41.05\n",
            "Top aq 2016, hierarchical key points:\n",
            "107 - 88 - Traffic congestion needs major improvement\n",
            "\t- Austin need improved transportation infrastructure to alleviate current traffic and\n",
            "\t  accommodate rapid population growth.\n",
            "\t- Fast population growth is the cities biggest problem in areas such as congestion and\n",
            "\t  expensiveness.\n",
            "\t15 - There is constant traffic and noise pollution.\n",
            "\t\t- IH35 & MoPac congestion is negative for local economy and causes air pollution and\n",
            "\t\t  causes safety hazards, i.e. dangerous to drive here.\n",
            "\t\t- My neighborhood has been subjected to 2+ years of noise, dirt, filthy side walks,\n",
            "\t\t  overgrown common areas, rude drivers, etc.\n",
            "\t4 - Roads are poorly maintain.\n",
            "\t\t- Major thoroughfares poorly planned, not functioning, city streets need repair.\n",
            "\t\t- This lack of maintenance makes Austin look run down.\n",
            "93 - 78 - We need affordable housing.\n",
            "\t- Affordable housing is crucial, & keeping seniors in their homes is part of that challenge!\n",
            "\t- We need better housing solutions for low income and homeless individuals.\n",
            "\t15 - HOUSING PRICES ARE OUT OF CONTROL.\n",
            "\t\t- IT HAS GOTTEN OUT OF CONTROL.\n",
            "\t\t- Overall living costs in Austin are too high!\n",
            "42 - Integrated transportation is critical.\n",
            "\t- a public transit train system is a necessity\n",
            "\t- Steiner Ranch area needs more access to public transportation (bus, train, etc>) and\n",
            "\t  taxi/ridesharing  to/from downtown and airport\n",
            "30 - UTILITY RATES & PROPERTY TAXES ARE OUTRAGEOUS\n",
            "\t- PROPERTY TAXES ARE TOO HIGH.\n",
            "\t- PROPERTY TAXES ARE OUT OF CONTROL.\n",
            "28 - 20 - THE HOMELESS POPULATION NEEDS MORE HELP/ATTENTION\n",
            "\t- HOMELESS SITUATION NEEDS TO BE ADDRESSED IN THE DOWNTOWN AREA\n",
            "\t- That is something that needs to be more effectively addressed by the APD.\n",
            "\t8 - Better training and sensitivity is needed.\n",
            "\t\t- Train law enforcement staff the proper way to deal with hostile perpetrators.\n",
            "\t\t- First responders/EMS/Fire/APD all need training on dealing with citizens with\n",
            "\t\t  cognitive/mental disabilities.\n",
            "23 - 15 - Austin Utility Services need an overhaul-especially water/wastewater.\n",
            "\t- Utilities, particularly water, is too high.\n",
            "\t- Hundreds of gallons of water are wasted by not being collected properly\n",
            "\t8 - Water consumption rates are too high.\n",
            "\t\t- The cost or water is excessive and way too high.\n",
            "\t\t- and Downtown is putting a terrible strain on water availability.\n",
            "15 - Infrastructure can't support rapid growth.\n",
            "\t- In many ways, the city is failing to meet the increasing demands on it's infrastructure\n",
            "\t  due to the growth of the city, especially transportation in the city - roads, public\n",
            "\t  transportation, bicycling, networks/quality, etc.\n",
            "\t- It is growing too quickly.\n",
            "14 - South Austin is losing businesses and residents.\n",
            "\t- Slow down the commercial/entertainment oriented development of central Austin\n",
            "\t  neighborhoods with a focus on preserving the lifestyles and economic viability for\n",
            "\t  residents in the aforementioned central Austin neighborhoods.\n",
            "\t- It is time for the city to place more of the burden on businesses that make tons of\n",
            "\t  money in this city and to take more of the burden away from it's residents.\n",
            "13 - TOLL ROADS DISCRIMINATE AGAINST LOW INCOME PEOPLE.\n",
            "\t- DEVELOPMENT SHOULD NOT DISPLACE LOW INCOME FAMILIES.\n",
            "\t- The middle class (and low income households) can't afford to buy a house in Austin.\n",
            "6 - WE NEED BETTER FLOOD PLANNING.\n",
            "\t- TO HAVE BETTER PLANNING FOR CITY GROWTH.\n",
            "\t- BETTER LONG RANGE PLANNING ON TRAFFIC FLOW.\n",
            "5 - Code issues are hurting the city.\n",
            "\t- Restrictive zoning, city planning and code enforcement, city council and the mayor\n",
            "\t  worsen out lives.\n",
            "\t- You are ruining the city with your incompetent policies and arrogance.\n",
            "5 - Police response time in unacceptably slow.\n",
            "\t- THE RESPONSE TIME FOR 311 CALLS COMPLAINTS IS EXTREMELY SLOW.\n",
            "\t- But, the process is too slow to remedy the current situation.\n",
            "3 - 30 mph kills children and pedestrians.\n",
            "\t- Pedestrians are at great risk, particularly children, and unrealistic speed limits\n",
            "\t  reflect an Austin that no longer exists.\n",
            "\t- Also now would be a good time to ensure that people who endanger, hurt or kill\n",
            "\t  vulnerable road users will be punished appropriately.\n",
            "3 - CRIME IS ON THE INCREASE.\n",
            "\t- The crime in our neighborhood is out of control.\n",
            "\t- Our taxes have doubled over the past year and so have the crime and police response time.\n",
            "3 - City Council members should represent all citizens.\n",
            "\t- The mayor should be more inclusive to the overall population of city residents than less\n",
            "\t  inclusive when establishing policies and services.\n",
            "\t- Please address this  systemic, out of control, evil, unkindness, money  sucking, taxing\n",
            "\t  without representation on lifetime, homeowner senior citizens of Austin.\n"
          ],
          "name": "stdout"
        }
      ]
    },
    {
      "cell_type": "markdown",
      "metadata": {
        "id": "e_QB8r1CUif1"
      },
      "source": [
        "#### 2.3.2 Increase coverage by decreasing the matching threshold\n",
        "Running over higher quality sentences we managed to increase our coverage to 41.05%. In order to increase the coverage more, we will add another parameter to the run_params called *mapping_threshold*. \n",
        "\n",
        "The mapping_threshold is responsible of deciding whether a sentences matches (supports) a key point. Therefore reducing the threshold from the 0.99 default value makes more sentences match key points and increases the coverage, at the risk of reducing the precision."
      ],
      "id": "e_QB8r1CUif1"
    },
    {
      "cell_type": "code",
      "metadata": {
        "scrolled": true,
        "colab": {
          "base_uri": "https://localhost:8080/"
        },
        "id": "MQyh393AUif1",
        "outputId": "9b8ccc1d-5ff7-4a8b-cd0b-84ecad5eae51"
      },
      "source": [
        "kpa_result_top_aq_1000_2016, kpa_top_aq_1000_2016_job_id = run_kpa(sentences_2016_top_1000_aq, \n",
        "                                                                {'n_top_kps': 20, 'mapping_threshold': 0.95})\n",
        "print_results(kpa_result_top_aq_1000_2016, n_sentences_per_kp=2, title='Top aq 2016')"
      ],
      "id": "MQyh393AUif1",
      "execution_count": null,
      "outputs": [
        {
          "output_type": "stream",
          "text": [
            "2021-06-27 09:05:59,878 [INFO] keypoints_client.py 284: uploading 1000 comments in batches\n",
            "2021-06-27 09:05:59,880 [INFO] keypoints_client.py 214: client calls service (post): https://keypoint-matching-backend.debater.res.ibm.com/comments\n",
            "2021-06-27 09:06:00,156 [INFO] keypoints_client.py 301: uploaded 1000 comments, out of 1000\n",
            "2021-06-27 09:06:00,161 [INFO] keypoints_client.py 214: client calls service (get): https://keypoint-matching-backend.debater.res.ibm.com/comments\n",
            "2021-06-27 09:06:00,306 [INFO] keypoints_client.py 313: domain: austin_demo, comments status: {'processed_comments': 3122, 'pending_comments': 1000, 'processed_sentences': 3122}\n",
            "2021-06-27 09:06:10,318 [INFO] keypoints_client.py 214: client calls service (get): https://keypoint-matching-backend.debater.res.ibm.com/comments\n",
            "2021-06-27 09:06:10,465 [INFO] keypoints_client.py 313: domain: austin_demo, comments status: {'processed_comments': 3122, 'pending_comments': 0, 'processed_sentences': 3122}\n",
            "2021-06-27 09:06:10,467 [INFO] keypoints_client.py 214: client calls service (post): https://keypoint-matching-backend.debater.res.ibm.com/kp_extraction\n",
            "2021-06-27 09:06:10,981 [INFO] keypoints_client.py 375: started a kp analysis job - domain: austin_demo, job_id: 60d83f8293247fbd991ab86e\n",
            "2021-06-27 09:06:10,983 [INFO] keypoints_client.py 214: client calls service (get): https://keypoint-matching-backend.debater.res.ibm.com/kp_extraction\n",
            "2021-06-27 09:06:11,082 [INFO] keypoints_client.py 548: job_id 60d83f8293247fbd991ab86e is pending\n",
            "2021-06-27 09:06:16,089 [INFO] keypoints_client.py 214: client calls service (get): https://keypoint-matching-backend.debater.res.ibm.com/kp_extraction\n",
            "2021-06-27 09:06:16,235 [INFO] keypoints_client.py 548: job_id 60d83f8293247fbd991ab86e is pending\n",
            "2021-06-27 09:06:21,241 [INFO] keypoints_client.py 214: client calls service (get): https://keypoint-matching-backend.debater.res.ibm.com/kp_extraction\n",
            "2021-06-27 09:06:21,492 [INFO] keypoints_client.py 552: job_id 60d83f8293247fbd991ab86e is running, progress: not updated yet\n",
            "2021-06-27 09:06:26,499 [INFO] keypoints_client.py 214: client calls service (get): https://keypoint-matching-backend.debater.res.ibm.com/kp_extraction\n",
            "2021-06-27 09:06:26,744 [INFO] keypoints_client.py 552: job_id 60d83f8293247fbd991ab86e is running, progress: not updated yet\n",
            "2021-06-27 09:06:31,747 [INFO] keypoints_client.py 214: client calls service (get): https://keypoint-matching-backend.debater.res.ibm.com/kp_extraction\n",
            "2021-06-27 09:06:31,886 [INFO] keypoints_client.py 552: job_id 60d83f8293247fbd991ab86e is running, progress: not updated yet\n",
            "2021-06-27 09:06:36,892 [INFO] keypoints_client.py 214: client calls service (get): https://keypoint-matching-backend.debater.res.ibm.com/kp_extraction\n",
            "2021-06-27 09:06:37,388 [INFO] keypoints_client.py 555: job_id 60d83f8293247fbd991ab86e is done, returning result\n"
          ],
          "name": "stderr"
        },
        {
          "output_type": "stream",
          "text": [
            "Top aq 2016 coverage: 49.89\n",
            "Top aq 2016 key points:\n",
            "93 - Traffic congestion needs major improvement\n",
            "\t- Austin need improved transportation infrastructure to alleviate current traffic and\n",
            "\t  accommodate rapid population growth.\n",
            "\t- Fast population growth is the cities biggest problem in areas such as congestion and\n",
            "\t  expensiveness.\n",
            "91 - We need affordable housing.\n",
            "\t- Affordable housing is crucial, & keeping seniors in their homes is part of that challenge!\n",
            "\t- We need better housing solutions for low income and homeless individuals.\n",
            "53 - Integrated transportation is critical.\n",
            "\t- a public transit train system is a necessity\n",
            "\t- Steiner Ranch area needs more access to public transportation (bus, train, etc>) and\n",
            "\t  taxi/ridesharing  to/from downtown and airport\n",
            "34 - UTILITY RATES & PROPERTY TAXES ARE OUTRAGEOUS\n",
            "\t- PROPERTY TAXES ARE TOO HIGH.\n",
            "\t- PROPERTY TAXES ARE OUT OF CONTROL.\n",
            "26 - South Austin is losing businesses and residents.\n",
            "\t- Slow down the commercial/entertainment oriented development of central Austin\n",
            "\t  neighborhoods with a focus on preserving the lifestyles and economic viability for\n",
            "\t  residents in the aforementioned central Austin neighborhoods.\n",
            "\t- It is time for the city to place more of the burden on businesses that make tons of\n",
            "\t  money in this city and to take more of the burden away from it's residents.\n",
            "23 - THE HOMELESS POPULATION NEEDS MORE HELP/ATTENTION\n",
            "\t- HOMELESS SITUATION NEEDS TO BE ADDRESSED IN THE DOWNTOWN AREA\n",
            "\t- That is something that needs to be more effectively addressed by the APD.\n",
            "18 - Austin Utility Services need an overhaul-especially water/wastewater.\n",
            "\t- Utilities, particularly water, is too high.\n",
            "\t- Hundreds of gallons of water are wasted by not being collected properly\n",
            "18 - HOUSING PRICES ARE OUT OF CONTROL.\n",
            "\t- IT HAS GOTTEN OUT OF CONTROL.\n",
            "\t- Overall living costs in Austin are too high!\n",
            "18 - Infrastructure can't support rapid growth.\n",
            "\t- In many ways, the city is failing to meet the increasing demands on it's infrastructure\n",
            "\t  due to the growth of the city, especially transportation in the city - roads, public\n",
            "\t  transportation, bicycling, networks/quality, etc.\n",
            "\t- It is growing too quickly.\n",
            "17 - There is constant traffic and noise pollution.\n",
            "\t- IH35 & MoPac congestion is negative for local economy and causes air pollution and\n",
            "\t  causes safety hazards, i.e. dangerous to drive here.\n",
            "\t- My neighborhood has been subjected to 2+ years of noise, dirt, filthy side walks,\n",
            "\t  overgrown common areas, rude drivers, etc.\n",
            "15 - TOLL ROADS DISCRIMINATE AGAINST LOW INCOME PEOPLE.\n",
            "\t- DEVELOPMENT SHOULD NOT DISPLACE LOW INCOME FAMILIES.\n",
            "\t- The middle class (and low income households) can't afford to buy a house in Austin.\n",
            "11 - Better training and sensitivity is needed.\n",
            "\t- Train law enforcement staff the proper way to deal with hostile perpetrators.\n",
            "\t- First responders/EMS/Fire/APD all need training on dealing with citizens with\n",
            "\t  cognitive/mental disabilities.\n",
            "9 - Code issues are hurting the city.\n",
            "\t- Restrictive zoning, city planning and code enforcement, city council and the mayor\n",
            "\t  worsen out lives.\n",
            "\t- You are ruining the city with your incompetent policies and arrogance.\n",
            "8 - City Council members should represent all citizens.\n",
            "\t- The mayor should be more inclusive to the overall population of city residents than less\n",
            "\t  inclusive when establishing policies and services.\n",
            "\t- Please address this  systemic, out of control, evil, unkindness, money  sucking, taxing\n",
            "\t  without representation on lifetime, homeowner senior citizens of Austin.\n",
            "8 - WE NEED BETTER FLOOD PLANNING.\n",
            "\t- TO HAVE BETTER PLANNING FOR CITY GROWTH.\n",
            "\t- BETTER LONG RANGE PLANNING ON TRAFFIC FLOW.\n",
            "8 - Water consumption rates are too high.\n",
            "\t- The cost or water is excessive and way too high.\n",
            "\t- and Downtown is putting a terrible strain on water availability.\n",
            "7 - Roads are poorly maintain.\n",
            "\t- Major thoroughfares poorly planned, not functioning, city streets need repair.\n",
            "\t- This lack of maintenance makes Austin look run down.\n",
            "6 - 30 mph kills children and pedestrians.\n",
            "\t- Pedestrians are at great risk, particularly children, and unrealistic speed limits\n",
            "\t  reflect an Austin that no longer exists.\n",
            "\t- Also now would be a good time to ensure that people who endanger, hurt or kill\n",
            "\t  vulnerable road users will be punished appropriately.\n",
            "6 - CRIME IS ON THE INCREASE.\n",
            "\t- The crime in our neighborhood is out of control.\n",
            "\t- Our taxes have doubled over the past year and so have the crime and police response time.\n",
            "5 - Police response time in unacceptably slow.\n",
            "\t- THE RESPONSE TIME FOR 311 CALLS COMPLAINTS IS EXTREMELY SLOW.\n",
            "\t- But, the process is too slow to remedy the current situation.\n"
          ],
          "name": "stdout"
        }
      ]
    },
    {
      "cell_type": "markdown",
      "metadata": {
        "id": "9bjXNSh1Uif2"
      },
      "source": [
        "The coverage was indeed increased to about 50%. Let's examine the bottom 5 sentences that were matched to the first key point and make sure that the precision is still high."
      ],
      "id": "9bjXNSh1Uif2"
    },
    {
      "cell_type": "code",
      "metadata": {
        "colab": {
          "base_uri": "https://localhost:8080/"
        },
        "id": "4MszpZvSUif2",
        "outputId": "2887a7d5-8d55-481d-ba2d-8e790467a533"
      },
      "source": [
        "from austin_utils import print_bottom_matches_for_kp\n",
        "print_bottom_matches_for_kp(kpa_result_top_aq_1000_2016, 'Traffic congestion needs major improvement', 5)"
      ],
      "id": "4MszpZvSUif2",
      "execution_count": null,
      "outputs": [
        {
          "output_type": "stream",
          "text": [
            "\n",
            "Bottom 5 matches:\n",
            "\t- The biggest problem Austin has is a lack of viable north-south arteries.\n",
            "\t- If the train traveled to more locations there would be more people on the train and less\n",
            "\t  traffic.\n",
            "\t- Please plan for the future through investments in a comprehensive transit plan rather\n",
            "\t  than quick fixes related to traffic.\n",
            "\t- Providing more bike lanes and dashed lanes is adding to the problem because drivers have\n",
            "\t  no idea what the rules are, and neither do bicycles.\n",
            "\t- Traffic in Austin is a major problem no matter which road you use.\n"
          ],
          "name": "stdout"
        }
      ]
    },
    {
      "cell_type": "markdown",
      "metadata": {
        "id": "hR7QGr5zUif2"
      },
      "source": [
        "## 3. Run *Key Point Analysis* over 2017 survey using the key points from 2016 survey\n",
        "### 3.1 Select top 1000 sentences from 2017 data using the *Argument Quality* service\n",
        "It is very useful to be able to compare between different subsets of the data (compare between different years, different districts, etc'). We will demonstrate how easy it is to compare the 2017 data to the 2016 data. A similar comparisson can be done between districts or other subsets. \n",
        "\n",
        "Let's first filter the 2017 sentences and take the top 1000 quality sentences, as done for the 2016 sentences."
      ],
      "id": "hR7QGr5zUif2"
    },
    {
      "cell_type": "code",
      "metadata": {
        "colab": {
          "base_uri": "https://localhost:8080/"
        },
        "id": "3XAOs_akUif2",
        "outputId": "544de1cb-8bc6-4087-cca5-fb0534a5f6f2"
      },
      "source": [
        "sentences_2017 = [sentence for sentence in sentences if sentence['year'] == '2017']\n",
        "sentences_2017_top_1000_aq = get_top_quality_sentences(sentences_2017, 1000, 'Austin is a great place to live')"
      ],
      "id": "3XAOs_akUif2",
      "execution_count": null,
      "outputs": [
        {
          "output_type": "stream",
          "text": [
            "ArgumentQualityClient: 100%|██████████| 3269/3269 [00:00<00:00, 8804.80it/s]\n",
            "2021-06-27 09:06:37,813 [INFO] argument_quality_client.py 24: argument_quality_client.run = 378.8411617279053ms.\n"
          ],
          "name": "stderr"
        },
        {
          "output_type": "stream",
          "text": [
            "Top 10 quality sentences: \n",
            "\t- Affordable housing is important to promote diversity in Austin.\n",
            "\t- More space (and more affordable, quality housing) means more artists, more artwork of\n",
            "\t  all mediums, and a more culturally diverse and enriched city.\n",
            "\t- AUSTIN NEEDS A BETTER PUBLIC TRANSPORTATION SYSTEM THAT CAN ACCOMMODATE MORE PEOPLE TO\n",
            "\t  HELP WITH TRAFFIC AND OVERALL GROWTH OF THE CITY.\n",
            "\t- We are at a tipping point in Austin, with such amazing growth from new businesses, that\n",
            "\t  we have a wonderful opportunity to address basic needs.\n",
            "\t- The middle and lower income people need more affordable housing; property taxes need to\n",
            "\t  be lowered and be more equitable.\n",
            "\t- Protect historic neighborhoods, they offer social and economic sustainability.\n",
            "\t- WE NEED TO KEEP AUSTIN AFFORDABLE FOR ALL SO WE CAN BENEFIT FROM THAT DIVERSITY.\n",
            "\t- THE QUALITY OF LIFE IN AUSTIN IS DEGRADING BECAUSE OF THE LACK OF COMPREHENSIVE PLAN TO\n",
            "\t  ADDRESS THE HOMELESS EPIDEMIC TO FIX TRAFFIC/ROAD CONGESTION AND THE LACK OF HOME\n",
            "\t  BUILDING\n",
            "\t- Educational and positive role model programs that aid underprivileged youths is key to\n",
            "\t  maintaining an ethical culture in our city.\n",
            "\t- More money should be directed towards affordable housing, abating traffic congestion,\n",
            "\t  and addressing climate change (water conservation, public transportation, etc.).\n",
            "\n",
            "\n",
            "Bottom 10 quality sentences: \n",
            "\t- Well, come on!!!!!!\n",
            "\t- I LOVE TREES BUT JEEZ!\n",
            "\t- Don't California our Texas\n",
            "\t- And the solution?\n",
            "\t- I called again.\n",
            "\t- Excuse my language.\n",
            "\t- when I retire.\n",
            "\t- Keep us a blueberry in the tomato soup!!\n",
            "\t- Thanks! :)\n",
            "\t- FINISH MOAPC HOV!\n"
          ],
          "name": "stdout"
        }
      ]
    },
    {
      "cell_type": "markdown",
      "metadata": {
        "id": "pnbV3TR7Uif3"
      },
      "source": [
        "### 3.2 Run *Key Point Analysis* over top 1000 quality 2017 sentences using the key points from 2016\n",
        "Exercise 2:<br/>\n",
        "In order to compare the 2017 sentences to 2016 sentences we will want to map the 2017 sentences to the same key points extracted on the 2016 sentences (otherwise different key points could be automattically extracted on the 2017 sentences and it would be hard to compare between them).\n",
        "\n",
        "For this end we will reimplement the *run_kpa* method (please copy paste the previous one and modify it). This time the method will receive a new *key_points_by_job_id* parameter. This parameter is passed to the *key_points_by_job_id* parameter in the **future = keypoints_client.start_kp_analysis_job(domain=domain, comments_ids=sentences_ids, run_params=run_params, key_points_by_job_id=key_points_by_job_id)** method. When *None* is passed to *key_points_by_job_id*, key points are automatically extracted, however when it is set with a *job_id* of a previous job it uses the key points from that job and matches all sentences to them."
      ],
      "id": "pnbV3TR7Uif3"
    },
    {
      "cell_type": "code",
      "metadata": {
        "id": "pqLNZSaJUif3"
      },
      "source": [
        "def run_kpa(sentences, run_params, key_points_by_job_id=None):\n",
        "    sentences_texts = [sentence['text'] for sentence in sentences]\n",
        "    sentences_ids = [sentence['id'] for sentence in sentences]\n",
        "\n",
        "    keypoints_client.upload_comments(domain=domain,\n",
        "                                     comments_ids=sentences_ids,\n",
        "                                     comments_texts=sentences_texts,\n",
        "                                     dont_split=True)\n",
        "\n",
        "    keypoints_client.wait_till_all_comments_are_processed(domain=domain)\n",
        "\n",
        "    future = keypoints_client.start_kp_analysis_job(domain=domain, comments_ids=sentences_ids,\n",
        "                                                    run_params=run_params,\n",
        "                                                    key_points_by_job_id=key_points_by_job_id)\n",
        "\n",
        "    kpa_result = future.get_result(high_verbosity=True, polling_timout_secs=5)\n",
        "    \n",
        "    return kpa_result, future.get_job_id()"
      ],
      "id": "pqLNZSaJUif3",
      "execution_count": null,
      "outputs": []
    },
    {
      "cell_type": "markdown",
      "metadata": {
        "id": "6WsvjYh7Uif3"
      },
      "source": [
        "Let's use the new *run_kpa* and provide it with the *top 1000 quality sentences from 2017* and the job_id of *top 1000 quality sentences from 2016*."
      ],
      "id": "6WsvjYh7Uif3"
    },
    {
      "cell_type": "code",
      "metadata": {
        "colab": {
          "base_uri": "https://localhost:8080/"
        },
        "id": "D9O2sLDpUif4",
        "outputId": "56e65870-c90e-4380-9123-6010a56e3f09"
      },
      "source": [
        "kpa_result_top_aq_1000_2017, _ = run_kpa(sentences_2017_top_1000_aq, \n",
        "                                    {'n_top_kps': 20, 'mapping_threshold': 0.95}, kpa_top_aq_1000_2016_job_id)\n",
        "print_results(kpa_result_top_aq_1000_2017, n_sentences_per_kp=2, title='Top aq 2017, using 2016 key points')"
      ],
      "id": "D9O2sLDpUif4",
      "execution_count": null,
      "outputs": [
        {
          "output_type": "stream",
          "text": [
            "2021-06-27 09:06:37,852 [INFO] keypoints_client.py 284: uploading 1000 comments in batches\n",
            "2021-06-27 09:06:37,856 [INFO] keypoints_client.py 214: client calls service (post): https://keypoint-matching-backend.debater.res.ibm.com/comments\n",
            "2021-06-27 09:06:38,183 [INFO] keypoints_client.py 301: uploaded 1000 comments, out of 1000\n",
            "2021-06-27 09:06:38,184 [INFO] keypoints_client.py 214: client calls service (get): https://keypoint-matching-backend.debater.res.ibm.com/comments\n",
            "2021-06-27 09:06:38,378 [INFO] keypoints_client.py 313: domain: austin_demo, comments status: {'processed_comments': 3122, 'pending_comments': 1000, 'processed_sentences': 3122}\n",
            "2021-06-27 09:06:48,386 [INFO] keypoints_client.py 214: client calls service (get): https://keypoint-matching-backend.debater.res.ibm.com/comments\n",
            "2021-06-27 09:06:48,540 [INFO] keypoints_client.py 313: domain: austin_demo, comments status: {'processed_comments': 3122, 'pending_comments': 0, 'processed_sentences': 3122}\n",
            "2021-06-27 09:06:48,544 [INFO] keypoints_client.py 214: client calls service (post): https://keypoint-matching-backend.debater.res.ibm.com/kp_extraction\n",
            "2021-06-27 09:06:49,066 [INFO] keypoints_client.py 375: started a kp analysis job - domain: austin_demo, job_id: 60d83fa993247fbd991ab873\n",
            "2021-06-27 09:06:49,067 [INFO] keypoints_client.py 214: client calls service (get): https://keypoint-matching-backend.debater.res.ibm.com/kp_extraction\n",
            "2021-06-27 09:06:49,182 [INFO] keypoints_client.py 548: job_id 60d83fa993247fbd991ab873 is pending\n",
            "2021-06-27 09:06:54,189 [INFO] keypoints_client.py 214: client calls service (get): https://keypoint-matching-backend.debater.res.ibm.com/kp_extraction\n",
            "2021-06-27 09:06:54,654 [INFO] keypoints_client.py 555: job_id 60d83fa993247fbd991ab873 is done, returning result\n"
          ],
          "name": "stderr"
        },
        {
          "output_type": "stream",
          "text": [
            "Top aq 2017, using 2016 key points coverage: 49.15\n",
            "Top aq 2017, using 2016 key points key points:\n",
            "122 - We need affordable housing.\n",
            "\t- Please consider working towards more affordable quality housing for middle and lower\n",
            "\t  income families in the City of Austin.\n",
            "\t- And try to increase housing affordability, especially for seniors and low-income families.\n",
            "93 - Traffic congestion needs major improvement\n",
            "\t- HWY & ROAD SYSTEMS NEED IMPROVEMENT, THE FLOW OF TRAFFIC NEEDS TO MAKE SENSE, WE NEED\n",
            "\t  MORE READILY AVAILABLE PUBLIC TRANSPORTATION SYSTEMS\n",
            "\t- The rush hour traffic on city highways and major city streets needs significant\n",
            "\t  improvement.\n",
            "43 - Integrated transportation is critical.\n",
            "\t- Austin needs better public transportation\n",
            "\t- WE NEED A BETTER TRANSPORTATION SYSTEM - A COMBINATION OF TRAINS AND BUSES.\n",
            "39 - UTILITY RATES & PROPERTY TAXES ARE OUTRAGEOUS\n",
            "\t- PROPERTY TAXES ARE WAY TOO HIGH.\n",
            "\t- Wastewater service fees and property taxes are ridiculously high.\n",
            "33 - THE HOMELESS POPULATION NEEDS MORE HELP/ATTENTION\n",
            "\t- THE QUALITY OF LIFE IN AUSTIN IS DEGRADING BECAUSE OF THE LACK OF COMPREHENSIVE PLAN TO\n",
            "\t  ADDRESS THE HOMELESS EPIDEMIC TO FIX TRAFFIC/ROAD CONGESTION AND THE LACK OF HOME\n",
            "\t  BUILDING\n",
            "\t- THE HOMELESSNESS ISSUE, ESPECIALLY IN THE DOWNTOWN (I.E. TOURIST) AREA NEEDS TO BE\n",
            "\t  ADDRESSED.\n",
            "20 - HOUSING PRICES ARE OUT OF CONTROL.\n",
            "\t- THE HIGH TAXES HAVE GOTTEN OUT OF CONTROL.\n",
            "\t- PROPERTY TAXES ARE OUT OF CONTROL BECAUSE OF THE CITY COUNCIL'S WASTEFULNESS.\n",
            "18 - City Council members should represent all citizens.\n",
            "\t- It is not to promote liberal or conservative ideas...it is to server ALL of its\n",
            "\t  taxpayers, by first providing SAFETY and reliable INFRASTRUCTURE.\n",
            "\t- The city government comes first; not the welfare of the citizens.\n",
            "16 - South Austin is losing businesses and residents.\n",
            "\t- Should do more about parking problems in neighborhoods that are starting to get filled\n",
            "\t  up with businesses that rarely have enough parking to support their customers, leading\n",
            "\t  to overflow of parking on the street.\n",
            "\t- CONSTANT HIGH DOLLAR PROPERTIES BEING BUILT ARE DRIVING THE BLUE COLLAR WORKERS OUT OF\n",
            "\t  THE CITY.\n",
            "14 - Infrastructure can't support rapid growth.\n",
            "\t- The rate of population is not keeping up with the rate of development of its roads.\n",
            "\t- Austin is not managing growth well.\n",
            "12 - There is constant traffic and noise pollution.\n",
            "\t- THEY ARE A TRAFFIC HAZARD AND LEAVE GARBAGE EVERYWHERE.\n",
            "\t- Stop all of the cookie cutter, over development - we are losing quality of life - noise,\n",
            "\t  pollution, traffic, tree loss.\n",
            "10 - TOLL ROADS DISCRIMINATE AGAINST LOW INCOME PEOPLE.\n",
            "\t- If something doesn't change soon with traffic and the cost of living Austin wont have\n",
            "\t  any low middle class worker.\n",
            "\t- THEY HURT THE PEOPLE WHO CAN LEAST AFFORD IT.\n",
            "9 - Code issues are hurting the city.\n",
            "\t- The city gets dirtier and more crowded every year and the city employees do very little\n",
            "\t  to enforce clean and safe environments within their apartment complexes.\n",
            "\t- This negatively effects the quality of life for Austin residents, and one of the main\n",
            "\t  reasons why I do not see myself staying in Austin next year.\n",
            "8 - Austin Utility Services need an overhaul-especially water/wastewater.\n",
            "\t- Stop worrying so much about water conservation and zero waste and provide lower cost,\n",
            "\t  adequate services.\n",
            "\t- Charges for wastewater are too high and have no relation to actual water \"wasted\".\n",
            "6 - WE NEED BETTER FLOOD PLANNING.\n",
            "\t- Our infrastructure planning has been abysmal.\n",
            "\t- This is poor planning on the part of city of Austin.\n",
            "4 - 30 mph kills children and pedestrians.\n",
            "\t- They are making our community dangerous.\n",
            "\t- It's puts everyone going downtown at risk.\n",
            "4 - Better training and sensitivity is needed.\n",
            "\t- We need to train our civil servants how to unlearn their own bias.\n",
            "\t- CONSTANT GRAFFITI IN PUBLIC PLACES IS OUT OF CONTROL LAWS ON THIS SHOULD BE ENFORCED\n",
            "\t  MORE STRICT AND WITH HARSHER PENALTIES.\n",
            "4 - CRIME IS ON THE INCREASE.\n",
            "\t- The rates go up each year and there is no reprieve.\n",
            "\t- We need more police presence in the higher crime areas such as Rundberg/ Georgian Acres\n",
            "\t  and other contiguous neighborhoods, including Heritage Hills (my area).\n",
            "4 - Police response time in unacceptably slow.\n",
            "\t- THEY ARE SLOW, IMPOSSIBLE TO DEAL WITH AND MAKE LIFE A MISERY.\n",
            "\t- Police are slow to respond and treat every average citizen as a criminal even when you\n",
            "\t  are the one to need services and help.\n",
            "4 - Roads are poorly maintain.\n",
            "\t- Poor condition of neighborhood streets; absence/inadequacy of sidewalks.\n",
            "\t- Some neighborhoods have such poorly maintained, overgrown sidewalks that they aren't\n",
            "\t  even accessible.\n"
          ],
          "name": "stdout"
        }
      ]
    },
    {
      "cell_type": "markdown",
      "metadata": {
        "id": "EDA_IaMLUif4"
      },
      "source": [
        "Since both jobs have the same key points, we can now easily compare the two results."
      ],
      "id": "EDA_IaMLUif4"
    },
    {
      "cell_type": "code",
      "metadata": {
        "scrolled": true,
        "colab": {
          "base_uri": "https://localhost:8080/"
        },
        "id": "6F8H8r8iUif5",
        "outputId": "1a13261b-9787-43de-c2b8-b6915d92ea85"
      },
      "source": [
        "from austin_utils import compare_results\n",
        "\n",
        "compare_results(kpa_result_top_aq_1000_2016, '2016', kpa_result_top_aq_1000_2017, '2017')"
      ],
      "id": "6F8H8r8iUif5",
      "execution_count": null,
      "outputs": [
        {
          "output_type": "stream",
          "text": [
            "2016 - 2017 comparison:\n",
            "+-----------------------------------------------------------------------+------+------+--------+\n",
            "|                               key point                               | 2016 | 2017 | change |\n",
            "+-----------------------------------------------------------------------+------+------+--------+\n",
            "|               Traffic congestion needs major improvement              |  93  |  93  |   0%   |\n",
            "|                      We need affordable housing.                      |  91  | 122  |  34%   |\n",
            "|                 Integrated transportation is critical.                |  53  |  43  |  -19%  |\n",
            "|             UTILITY RATES & PROPERTY TAXES ARE OUTRAGEOUS             |  34  |  39  |  14%   |\n",
            "|            South Austin is losing businesses and residents.           |  26  |  16  |  -39%  |\n",
            "|           THE HOMELESS POPULATION NEEDS MORE HELP/ATTENTION           |  23  |  33  |  43%   |\n",
            "| Austin Utility Services need an overhaul-especially water/wastewater. |  18  |  8   |  -56%  |\n",
            "|               Infrastructure can't support rapid growth.              |  18  |  14  |  -23%  |\n",
            "|                   HOUSING PRICES ARE OUT OF CONTROL.                  |  18  |  20  |  11%   |\n",
            "|             There is constant traffic and noise pollution.            |  17  |  12  |  -30%  |\n",
            "|           TOLL ROADS DISCRIMINATE AGAINST LOW INCOME PEOPLE.          |  15  |  10  |  -34%  |\n",
            "|               Better training and sensitivity is needed.              |  11  |  4   |  -64%  |\n",
            "|                   Code issues are hurting the city.                   |  9   |  9   |   0%   |\n",
            "|                     WE NEED BETTER FLOOD PLANNING.                    |  8   |  6   |  -25%  |\n",
            "|          City Council members should represent all citizens.          |  8   |  18  |  125%  |\n",
            "|                       Roads are poorly maintain.                      |  7   |  4   |  -43%  |\n",
            "|                       CRIME IS ON THE INCREASE.                       |  6   |  4   |  -34%  |\n",
            "|                 30 mph kills children and pedestrians.                |  6   |  4   |  -34%  |\n",
            "|               Police response time in unacceptably slow.              |  5   |  4   |  -20%  |\n",
            "|                 Water consumption rates are too high.                 |  8   | ---  |  ---   |\n",
            "+-----------------------------------------------------------------------+------+------+--------+\n"
          ],
          "name": "stdout"
        }
      ]
    },
    {
      "cell_type": "markdown",
      "metadata": {
        "id": "AhS7oVvEUif5"
      },
      "source": [
        "Note: This comparision is for illustration only. Given that we ran on a subset of comments, the statistical significant of difference between the years is limited, except for the most recurring keypoints."
      ],
      "id": "AhS7oVvEUif5"
    },
    {
      "cell_type": "markdown",
      "metadata": {
        "id": "FalZilB1Uif5"
      },
      "source": [
        "## 4. Deep dive into the *traffic problem* in Austin using the *Term Wikifier* and *Term Relater* services\n",
        "As we've seen in the 2016 results, that the traffic problem in Austin is significant. In this section we will use the *Term Wikifier* and *Term Relater* services to select a subset of the sentences related to the *Traffic* topic and run *Key Point Analysis* over them. \n",
        "\n",
        "The *Term Wikifier* service runs over sentences and identifies the Wikipedia concepts that are referenced by phrases in the sentence text.  Concepts correspond to Wikipedia articles.  Each occurance of a concept in the sentence is called a *mention*.  For example, the sentence \"My car insurance went up 20% due to vehicle thefts and burglary\" mentions three Wikipedia concepts: The phrase \"car insurance\" is mapped to the concept *Vehicle insurance*; the phrase \"vehicle thefts\" is mapped to the concept *Motor vehicle theft* and the phrase \"burglary\" is mapped to the concept *Burglary*.\n",
        "\n",
        "The *Term Relater* service runs over pairs of Wikipedia concepts and scores how closely these concepts are related.  For example, the *Car* concept is very related to the *Traffic* concept but the *Cat* concept is not very related to the *Traffic* concept.\n",
        "\n",
        "We will use the *Term Wikifier* to extract all mentions in all sentences; then use the *Term Relater* to select a subset of these mentions which are related to the 'Traffic' concept; then select all sentences that have mentions related to the 'Traffic' concept; and finally run *Key Point Analysis* over them. Running over these sentences will create key points specifically to the traffic problem in Austin and expose insights and suggestions related to it."
      ],
      "id": "FalZilB1Uif5"
    },
    {
      "cell_type": "markdown",
      "metadata": {
        "id": "PqgiYb18Uif6"
      },
      "source": [
        "### 4.1 Calculate the mentions in the sentences using the *Term Wikifier*\n",
        "Exercise 3:\n",
        "\n",
        "Please complete the missing parts in the *get_sentence_to_mentions(sentences_texts)* method. The method uses the *Term Wikifier* service, calculates the mentions for each sentence and stores it in a dictionary named *sentence_to_mentions*. \n",
        "\n",
        "The *Term Wikifier* client runs over the sentences_texts using the **mentions_list = term_wikifier_client.run(sentences_texts)** method and returns a list of mentions_lists."
      ],
      "id": "PqgiYb18Uif6"
    },
    {
      "cell_type": "code",
      "metadata": {
        "id": "wRagM5GPUif6"
      },
      "source": [
        "def get_sentence_to_mentions(sentences_texts):\n",
        "    term_wikifier_client = debater_api.get_term_wikifier_client()\n",
        "\n",
        "    mentions_list = term_wikifier_client.run(sentences_texts)\n",
        "    \n",
        "    sentence_to_mentions = {}\n",
        "    for sentence_text, mentions in zip(sentences_texts, mentions_list):\n",
        "        sentence_to_mentions[sentence_text] = set([mention['concept']['title'] for mention in mentions])\n",
        "    return sentence_to_mentions"
      ],
      "id": "wRagM5GPUif6",
      "execution_count": null,
      "outputs": []
    },
    {
      "cell_type": "markdown",
      "metadata": {
        "id": "Nvo5-Z3LUif6"
      },
      "source": [
        "Let's calculate the mentions on all 2016 sentences\""
      ],
      "id": "Nvo5-Z3LUif6"
    },
    {
      "cell_type": "code",
      "metadata": {
        "colab": {
          "base_uri": "https://localhost:8080/"
        },
        "id": "li-kzxYKUif7",
        "outputId": "487030d2-7795-45c4-f59f-ead0611949a1"
      },
      "source": [
        "sentences_2016_texts = [sentence['text'] for sentence in sentences_2016]\n",
        "sentence_to_mentions = get_sentence_to_mentions(sentences_2016_texts)"
      ],
      "id": "li-kzxYKUif7",
      "execution_count": null,
      "outputs": [
        {
          "output_type": "stream",
          "text": [
            "TermWikifierClient: 100%|██████████| 3005/3005 [00:04<00:00, 612.89it/s]\n",
            "2021-06-27 09:06:59,641 [INFO] term_wikifier_client.py 34: term_wikifier_client.run = 4932.300090789795ms.\n"
          ],
          "name": "stderr"
        }
      ]
    },
    {
      "cell_type": "markdown",
      "metadata": {
        "id": "2t5P_FJNUif7"
      },
      "source": [
        "### 4.2 Find the mentions that relate to the *traffic* concept using the *Term Relater* service\n",
        "Since we're interested in the *Traffic* concept, we will now take all mentions and find the ones that are related to that concept. Then we will select all sentences that have at least one mention that is related to the *Traffic* concept."
      ],
      "id": "2t5P_FJNUif7"
    },
    {
      "cell_type": "code",
      "metadata": {
        "id": "Okl79nLPUif7"
      },
      "source": [
        "all_mentions = set([mention for sentence in sentence_to_mentions \n",
        "                   for mention in sentence_to_mentions[sentence]])"
      ],
      "id": "Okl79nLPUif7",
      "execution_count": null,
      "outputs": []
    },
    {
      "cell_type": "markdown",
      "metadata": {
        "id": "5GFEjyG1Uif7"
      },
      "source": [
        "Exercise 4:<br/>\n",
        "Please complete the missing parts in the *get_related_mentions(concept, threshold, all_mentions)* method. It receives a given concept, a threshold and all_mentions. It then uses the *Term Relater* service to calculate the relatedness between the mentions and the concept and returns all mentions that have relatedness score above the given threhold. The *term_relater_client* runs over the pairs using the **scores = term_relater_client.run(concept_mention_pairs)** method and returns a list of scores."
      ],
      "id": "5GFEjyG1Uif7"
    },
    {
      "cell_type": "code",
      "metadata": {
        "id": "fv0BbNmXUif7"
      },
      "source": [
        "def get_related_mentions(concept, threshold, all_mentions):\n",
        "    term_relater_client = debater_api.get_term_relater_client()\n",
        "    concept_mention_pairs = [[concept, mention] for mention in all_mentions]\n",
        "\n",
        "    scores = term_relater_client.run(concept_mention_pairs)\n",
        "    \n",
        "    return [mention for mention, score in zip(all_mentions, scores) if score > threshold]"
      ],
      "id": "fv0BbNmXUif7",
      "execution_count": null,
      "outputs": []
    },
    {
      "cell_type": "markdown",
      "metadata": {
        "id": "KNaJgv6SUif8"
      },
      "source": [
        "We will now use the method you've implemented and find the mentions that match the *traffic* concept."
      ],
      "id": "KNaJgv6SUif8"
    },
    {
      "cell_type": "code",
      "metadata": {
        "colab": {
          "base_uri": "https://localhost:8080/"
        },
        "id": "byQ4g0U_Uif8",
        "outputId": "20115ef1-92ee-46dd-f218-da0db9275d3d"
      },
      "source": [
        "matched_mentions = get_related_mentions('Traffic', 0.5, all_mentions)\n",
        "print(matched_mentions)"
      ],
      "id": "byQ4g0U_Uif8",
      "execution_count": null,
      "outputs": [
        {
          "output_type": "stream",
          "text": [
            "TermRelaterClient: 100%|██████████| 1634/1634 [00:08<00:00, 190.96it/s]\n",
            "2021-06-27 09:07:08,254 [INFO] term_relater_client.py 37: term_relater_client.run = 8564.841032028198ms.\n"
          ],
          "name": "stderr"
        },
        {
          "output_type": "stream",
          "text": [
            "['Transportation planning', 'Lane', 'Traffic (conservation programme)', 'Speed', 'Gridlock', 'Bus station', 'Train', 'Traffic sign', 'Road surface marking', 'Ridesharing company', 'Bike path', 'Motor vehicle', 'Highway systems by country', 'Traffic collision', 'State highway', 'Transportation theory (mathematics)', 'Road expansion', 'Speed limit', 'Vehicle insurance', 'Driveway', 'Bicycle', 'Parking', 'One-way traffic', 'Passing lane', 'Local–express lanes', 'Traffic congestion', 'Bicycle commuting', 'Rail transport', 'Uber', 'Transport hub', 'Thoroughfare', 'Cycling', 'Road cycling', 'Commercial vehicle', 'Sidewalk', 'Truck', 'Bus lane', 'Taxicab', 'Signal', 'Parking violation', 'Vehicle', 'Capital Metropolitan Transportation Authority', 'Frontage road', 'Roundabout', 'Trail', 'Bicycle safety', 'Travel', 'Boulevard', 'Road', 'Rapid transit', 'Rush hour', 'Public transport bus service', 'Bridge', 'Driving under the influence', 'Car', 'Road surface', 'Pedestrian facilities', 'Tram', 'Traffic light', 'Track (rail transport)', 'Public transport timetable', 'Traffic ticket', 'Highway', 'Public transport', 'Police transport', 'Road traffic safety', 'Bicycle-friendly', 'Pedestrian', 'Parkway', 'Driving', 'Bus', 'Bus driver', 'Rail freight transport', 'Traffic management', 'Transport', 'Right of way', 'Carriageway', 'Bike lane', 'Drive-through', 'Transport network', 'Bus stop', 'Controlled-access highway', 'Street', 'Stop sign', 'Toll road', 'Traffic', 'Speed bump', 'Transit bus', 'Truck driver', 'Mode of transport', 'Single-vehicle crash', 'Transport Plan', 'Traffic flow', 'Park and ride']\n"
          ],
          "name": "stdout"
        }
      ]
    },
    {
      "cell_type": "markdown",
      "metadata": {
        "id": "bqTSqjtSUif8"
      },
      "source": [
        "### 4.3 Run *Key Point Analysis* over the sentences that relate to the *Traffic* concept\n",
        "Let's select the sentences that have mentions that are related to the *Traffic* concept and run over them. We will need to switch back from sentences_texts to sentences dictionaries since our *run_kpa* method needs the sentences dictionaries."
      ],
      "id": "bqTSqjtSUif8"
    },
    {
      "cell_type": "code",
      "metadata": {
        "colab": {
          "base_uri": "https://localhost:8080/"
        },
        "id": "ZMbjUgTCUif9",
        "outputId": "81d3b7f0-c248-4b25-c97f-fed49081db1c"
      },
      "source": [
        "matched_sentences_texts = [sentence for sentence in sentences_2016_texts \n",
        "                     if len(sentence_to_mentions[sentence].intersection(matched_mentions)) > 0]\n",
        "matched_sentences = [sentence for sentence in sentences_2016 if sentence['text'] in matched_sentences_texts]\n",
        "matched_sentences = matched_sentences if len(matched_sentences) <= 1000 else random.sample(matched_sentences, 1000)\n",
        "print('Running over %d sentences' % len(matched_sentences))"
      ],
      "id": "ZMbjUgTCUif9",
      "execution_count": null,
      "outputs": [
        {
          "output_type": "stream",
          "text": [
            "Running over 980 sentences\n"
          ],
          "name": "stdout"
        }
      ]
    },
    {
      "cell_type": "markdown",
      "metadata": {
        "id": "k1s3F_0qUif9"
      },
      "source": [
        "Finally, let's run over these sentences and examine the *Traffic* related key points"
      ],
      "id": "k1s3F_0qUif9"
    },
    {
      "cell_type": "code",
      "metadata": {
        "colab": {
          "base_uri": "https://localhost:8080/"
        },
        "id": "zeN-aykkUif-",
        "outputId": "42e6120e-ee14-47ec-d4c0-3f956d5e40d6"
      },
      "source": [
        "kpa_result_traffic_2016, _ = run_kpa(matched_sentences, {'n_top_kps': 20, 'mapping_threshold': 0.99}, None)\n",
        "print_results(kpa_result_traffic_2016, n_sentences_per_kp=2, title='Traffic KPA 2016')"
      ],
      "id": "zeN-aykkUif-",
      "execution_count": null,
      "outputs": [
        {
          "output_type": "stream",
          "text": [
            "2021-06-27 09:07:08,342 [INFO] keypoints_client.py 284: uploading 980 comments in batches\n",
            "2021-06-27 09:07:08,344 [INFO] keypoints_client.py 214: client calls service (post): https://keypoint-matching-backend.debater.res.ibm.com/comments\n",
            "2021-06-27 09:07:08,564 [INFO] keypoints_client.py 301: uploaded 980 comments, out of 980\n",
            "2021-06-27 09:07:08,566 [INFO] keypoints_client.py 214: client calls service (get): https://keypoint-matching-backend.debater.res.ibm.com/comments\n",
            "2021-06-27 09:07:08,801 [INFO] keypoints_client.py 313: domain: austin_demo, comments status: {'processed_comments': 3122, 'pending_comments': 980, 'processed_sentences': 3122}\n",
            "2021-06-27 09:07:18,811 [INFO] keypoints_client.py 214: client calls service (get): https://keypoint-matching-backend.debater.res.ibm.com/comments\n",
            "2021-06-27 09:07:18,947 [INFO] keypoints_client.py 313: domain: austin_demo, comments status: {'processed_comments': 3122, 'pending_comments': 0, 'processed_sentences': 3122}\n",
            "2021-06-27 09:07:18,949 [INFO] keypoints_client.py 214: client calls service (post): https://keypoint-matching-backend.debater.res.ibm.com/kp_extraction\n",
            "2021-06-27 09:07:19,442 [INFO] keypoints_client.py 375: started a kp analysis job - domain: austin_demo, job_id: 60d83fc793247fbd991ab878\n",
            "2021-06-27 09:07:19,444 [INFO] keypoints_client.py 214: client calls service (get): https://keypoint-matching-backend.debater.res.ibm.com/kp_extraction\n",
            "2021-06-27 09:07:19,542 [INFO] keypoints_client.py 548: job_id 60d83fc793247fbd991ab878 is pending\n",
            "2021-06-27 09:07:24,551 [INFO] keypoints_client.py 214: client calls service (get): https://keypoint-matching-backend.debater.res.ibm.com/kp_extraction\n",
            "2021-06-27 09:07:24,658 [INFO] keypoints_client.py 548: job_id 60d83fc793247fbd991ab878 is pending\n",
            "2021-06-27 09:07:29,665 [INFO] keypoints_client.py 214: client calls service (get): https://keypoint-matching-backend.debater.res.ibm.com/kp_extraction\n",
            "2021-06-27 09:07:29,835 [INFO] keypoints_client.py 552: job_id 60d83fc793247fbd991ab878 is running, progress: not updated yet\n",
            "2021-06-27 09:07:34,842 [INFO] keypoints_client.py 214: client calls service (get): https://keypoint-matching-backend.debater.res.ibm.com/kp_extraction\n",
            "2021-06-27 09:07:35,112 [INFO] keypoints_client.py 552: job_id 60d83fc793247fbd991ab878 is running, progress: not updated yet\n",
            "2021-06-27 09:07:40,114 [INFO] keypoints_client.py 214: client calls service (get): https://keypoint-matching-backend.debater.res.ibm.com/kp_extraction\n",
            "2021-06-27 09:07:40,555 [INFO] keypoints_client.py 555: job_id 60d83fc793247fbd991ab878 is done, returning result\n"
          ],
          "name": "stderr"
        },
        {
          "output_type": "stream",
          "text": [
            "Traffic KPA 2016 coverage: 62.17\n",
            "Traffic KPA 2016 key points:\n",
            "174 - PLEASE ADDRESS THE TRAFFIC CONGESTION\n",
            "\t- Pay closer attention to the Four Points area - extreme traffic congestion that is only\n",
            "\t  getting worse!\n",
            "\t- Austin traffic (especially the morning commute) needs help!\n",
            "74 - We need better mass transit!\n",
            "\t- WE NEED MASS TRANSIT TO THE AIRPORT!\n",
            "\t- Steiner Ranch area needs more access to public transportation (bus, train, etc>) and\n",
            "\t  taxi/ridesharing  to/from downtown and airport\n",
            "49 - Fix traffic congestion - better planning needed.\n",
            "\t- Need to plan for the growth and traffic this city is now experiencing much better.\n",
            "\t- NEED BETTER TRAFFIC FLOW PLANNING.\n",
            "45 - Affordable housing, traffic, cleaner streets/roads.\n",
            "\t- Ensure good traffic flow, safety, affordable housing, city planning, and cleanliness.\n",
            "\t- WE NEED AFFORDABLE HOUSING, BETTER ROADS AND MORE ROADS\n",
            "42 - Transportation improvements--light rail, bike facilities, roadways, sidewalks\n",
            "\t- Austin needs to get serious about alternatives to driving including real mass transit,\n",
            "\t  bike, and pedestrian facilities.\n",
            "\t- It's more important to improve the infrastructure for bikes and pedestrians and public\n",
            "\t  transportation to reduce the amount of cars on the roads.\n",
            "24 - The highways need a major overhaul.\n",
            "\t- Rebuild IH-35!...Major highway IH-35 needs a big over-haul!!\n",
            "\t- TRAFFIC IS RIDICULOUS MAJOR IMPROVEMENTS NEEDED.\n",
            "19 - Public wheelchair transportation to ALL areas.\n",
            "\t- More accessibility for the  handicap on roads, restaurants and vehicles taking you to\n",
            "\t  the outskirts of the city.\n",
            "\t- We need an extended streetcar system (middle of all major roads).\n",
            "18 - WE NEED BETTER SIDEWALKS AND LIGHTING.\n",
            "\t- Better traffic flow and traffic light timing.\n",
            "\t- Also, keeping streets and parks clean, lights burning,  crime controlled.\n",
            "14 - Better pedestrian and biking lifestyle options.\n",
            "\t- Increase affordable family friendly housing (2 or more brims) in family friendly walk\n",
            "\t  able neighborhoods near public transportation & bike trails & parks so people are less\n",
            "\t  dependent on car travel\n",
            "\t- Interconnect hike and bike trails, neighborhoods.\n",
            "7 - City services (water, streets, electric) are outstanding!!\n",
            "\t- The electric, water, waist water, street, drainage etc all the extra items list are\n",
            "\t  taxes in excess!!!\n",
            "\t- Focus on the core functions of government- roads, public safety, essential services like\n",
            "\t  water & electricity (although Austin would likely be better served in a deregulated\n",
            "\t  electric market), reasonable property taxes.\n",
            "7 - Roads are poorly maintain.\n",
            "\t- Major thoroughfares poorly planned, not functioning, city streets need repair.\n",
            "\t- Better streets, too many potholes.\n",
            "6 - Stricter laws for cyclists in traffic\n",
            "\t- Enforce the traffic laws.\n",
            "\t- Remove peddlers at traffic lights and fix traffic problems.\n",
            "4 - 30 mph kills children and pedestrians.\n",
            "\t- I am very concerned with highway and pedestrian safety.\n",
            "\t- Pedestrians are at great risk, particularly children, and unrealistic speed limits\n",
            "\t  reflect an Austin that no longer exists.\n",
            "4 - Public transportation has always been problematic here.\n",
            "\t- Our public transport is incredibly deficient.\n",
            "\t- HIGHWAY SYSTEM THRU CITY IS TERRIBLE\n",
            "4 - Speed limits in neighborhoods are too fast.\n",
            "\t- People in my neighborhood drive 40-50 up Scotland Well Drive, the speed limit is 30!\n",
            "\t- Would like slower speeds limits in residential neighborhoods and enforced.\n",
            "3 - MORE FREE PARKING DOWNTOWN.\n",
            "\t- There use to be free parking around town, now it costs to park anywhere in the city.\n",
            "\t- There is no parking now in Austin and then they tell us that our neighborhoods may get\n",
            "\t  metered.\n",
            "2 - Effective, affordable ride-share networks are critical.\n",
            "\t- Better local transportation including ride share companies as reasonable options.\n",
            "2 - TOLL ROADS DISCRIMINATE AGAINST LOW INCOME PEOPLE.\n",
            "\t- They're predatory towards the poor and do not ease traffic congestion at all.\n"
          ],
          "name": "stdout"
        }
      ]
    },
    {
      "cell_type": "markdown",
      "metadata": {
        "id": "xfgLk1ScUif-"
      },
      "source": [
        "### 4.4 Conclusion"
      ],
      "id": "xfgLk1ScUif-"
    },
    {
      "cell_type": "markdown",
      "metadata": {
        "id": "m2hefaVjUif-"
      },
      "source": [
        "In this tutorial, we showed how *Key Point Analysis* can provide you with detailed insights over survey data right out of the box - significantly reducing the effort required by a data scientist to analyze the data.  We also demonstrated how key point analysis over unstructured text can be combined with available structured information, to provide new views over the data.   Finally, we showed how utilizing of additional Project Debater text analysis services such as *Argument Quality*, *Term Wikifier* , and *Term Relater* can further improve the quality of the results."
      ],
      "id": "m2hefaVjUif-"
    }
  ]
}